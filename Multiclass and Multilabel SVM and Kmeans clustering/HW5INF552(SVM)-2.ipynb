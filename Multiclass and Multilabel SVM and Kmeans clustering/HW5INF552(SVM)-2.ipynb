{
 "cells": [
  {
   "cell_type": "markdown",
   "metadata": {},
   "source": [
    "# 1(a.) Download dataset"
   ]
  },
  {
   "cell_type": "code",
   "execution_count": 1,
   "metadata": {},
   "outputs": [],
   "source": [
    "import pandas as pd\n",
    "df = pd.read_csv('/Users/divyatmika/Downloads/Anuran Calls (MFCCs)/Frogs_MFCCs.csv')"
   ]
  },
  {
   "cell_type": "code",
   "execution_count": 2,
   "metadata": {},
   "outputs": [],
   "source": [
    "df.drop(columns='RecordID', inplace=True)"
   ]
  },
  {
   "cell_type": "code",
   "execution_count": 3,
   "metadata": {},
   "outputs": [
    {
     "name": "stdout",
     "output_type": "stream",
     "text": [
      "the number of rows :\n",
      "7195\n",
      "the number of columns :\n",
      "25\n"
     ]
    }
   ],
   "source": [
    "print(\"the number of rows :\")\n",
    "print(df.shape[0])\n",
    "print(\"the number of columns :\")\n",
    "print(df.shape[1])"
   ]
  },
  {
   "cell_type": "code",
   "execution_count": 4,
   "metadata": {},
   "outputs": [
    {
     "data": {
      "text/plain": [
       "Index(['MFCCs_ 1', 'MFCCs_ 2', 'MFCCs_ 3', 'MFCCs_ 4', 'MFCCs_ 5', 'MFCCs_ 6',\n",
       "       'MFCCs_ 7', 'MFCCs_ 8', 'MFCCs_ 9', 'MFCCs_10', 'MFCCs_11', 'MFCCs_12',\n",
       "       'MFCCs_13', 'MFCCs_14', 'MFCCs_15', 'MFCCs_16', 'MFCCs_17', 'MFCCs_18',\n",
       "       'MFCCs_19', 'MFCCs_20', 'MFCCs_21', 'MFCCs_22', 'Family', 'Genus',\n",
       "       'Species'],\n",
       "      dtype='object')"
      ]
     },
     "execution_count": 4,
     "metadata": {},
     "output_type": "execute_result"
    }
   ],
   "source": [
    "df.columns"
   ]
  },
  {
   "cell_type": "code",
   "execution_count": 5,
   "metadata": {},
   "outputs": [],
   "source": [
    "from sklearn.model_selection import train_test_split\n",
    "train, test = train_test_split(df, test_size=0.3)"
   ]
  },
  {
   "cell_type": "code",
   "execution_count": 6,
   "metadata": {},
   "outputs": [
    {
     "name": "stdout",
     "output_type": "stream",
     "text": [
      "Number of instances in test dataset is : \n",
      "2159\n",
      "Number of instances in train dataset is : \n",
      "5036\n"
     ]
    }
   ],
   "source": [
    "print(\"Number of instances in test dataset is : \")\n",
    "print(test.shape[0])\n",
    "print(\"Number of instances in train dataset is : \")\n",
    "print(train.shape[0])"
   ]
  },
  {
   "cell_type": "markdown",
   "metadata": {},
   "source": [
    "# 1(b.) (i). Exact Match and Hamming Loss : \n",
    "Hamming loss the fraction of the wrong labels to the total number of labels. \n",
    "When considering the multi label use case, you should decide how to extend accuracy to this case. The method choose in hamming loss was to give each label equal weight. One could use other methods (e.g., taking the maximum).\n",
    "\n",
    "Exact Match : Evaluation of Multilabel Classification algorithm is difficult mostly because multi-label prediction has an additional notion of being partially correct. One trivial way is to ignore the partially correct that is consider them as incoorect classification and extend the accuracy used in single label case for multi-label prediction"
   ]
  },
  {
   "cell_type": "code",
   "execution_count": 7,
   "metadata": {},
   "outputs": [],
   "source": [
    "import numpy as np\n",
    "import matplotlib.pyplot as plt\n",
    "from sklearn.datasets import make_multilabel_classification\n",
    "from sklearn.multiclass import OneVsRestClassifier\n",
    "from sklearn.svm import SVC\n",
    "from sklearn.preprocessing import LabelBinarizer"
   ]
  },
  {
   "cell_type": "code",
   "execution_count": 8,
   "metadata": {},
   "outputs": [],
   "source": [
    "X = train.drop(columns=['Family','Genus','Species'])"
   ]
  },
  {
   "cell_type": "code",
   "execution_count": 51,
   "metadata": {},
   "outputs": [],
   "source": [
    "X_test = test.drop(columns=['Family','Genus','Species'])"
   ]
  },
  {
   "cell_type": "code",
   "execution_count": 9,
   "metadata": {},
   "outputs": [],
   "source": [
    " Y = train[['Family','Genus','Species']]"
   ]
  },
  {
   "cell_type": "code",
   "execution_count": 52,
   "metadata": {},
   "outputs": [],
   "source": [
    " Y_test = test[['Family','Genus','Species']]"
   ]
  },
  {
   "cell_type": "markdown",
   "metadata": {},
   "source": [
    "# Checking the features:"
   ]
  },
  {
   "cell_type": "code",
   "execution_count": 10,
   "metadata": {},
   "outputs": [
    {
     "name": "stdout",
     "output_type": "stream",
     "text": [
      "Family:\n",
      "['Hylidae' 'Leptodactylidae' 'Dendrobatidae' 'Bufonidae']\n",
      "Genus:\n",
      "['Hypsiboas' 'Osteocephalus' 'Adenomera' 'Ameerega' 'Scinax'\n",
      " 'Dendropsophus' 'Leptodactylus' 'Rhinella']\n",
      "Species:\n",
      "['HypsiboasCinerascens' 'OsteocephalusOophagus' 'HypsiboasCordobae'\n",
      " 'AdenomeraHylaedactylus' 'Ameeregatrivittata' 'AdenomeraAndre'\n",
      " 'ScinaxRuber' 'HylaMinuta' 'LeptodactylusFuscus' 'Rhinellagranulosa']\n"
     ]
    }
   ],
   "source": [
    "feat = train['Family'].unique()\n",
    "print(\"Family:\")\n",
    "print(feat)\n",
    "feat_Genus = train['Genus'].unique()\n",
    "print(\"Genus:\")\n",
    "print(feat_Genus)\n",
    "feat_species = train['Species'].unique()\n",
    "print(\"Species:\")\n",
    "print(feat_species)"
   ]
  },
  {
   "cell_type": "code",
   "execution_count": 11,
   "metadata": {},
   "outputs": [],
   "source": [
    "import warnings\n",
    "warnings.filterwarnings('ignore')\n",
    "Y['Family'].replace(['Leptodactylidae'], 0,inplace=True)\n",
    "Y['Family'].replace(['Hylidae'], 1,inplace=True)\n",
    "Y['Family'].replace(['Dendrobatidae'], 2,inplace=True)\n",
    "Y['Family'].replace(['Bufonidae'], 3,inplace=True)\n",
    "\n"
   ]
  },
  {
   "cell_type": "code",
   "execution_count": 53,
   "metadata": {},
   "outputs": [],
   "source": [
    "import warnings\n",
    "warnings.filterwarnings('ignore')\n",
    "Y_test['Family'].replace(['Leptodactylidae'], 0,inplace=True)\n",
    "Y_test['Family'].replace(['Hylidae'], 1,inplace=True)\n",
    "Y_test['Family'].replace(['Dendrobatidae'], 2,inplace=True)\n",
    "Y_test['Family'].replace(['Bufonidae'], 3,inplace=True)\n",
    "\n"
   ]
  },
  {
   "cell_type": "code",
   "execution_count": 54,
   "metadata": {},
   "outputs": [],
   "source": [
    "import warnings\n",
    "warnings.filterwarnings('ignore')\n",
    "Y_test['Genus'].replace(['Adenomera'], 0,inplace=True)\n",
    "Y_test['Genus'].replace(['Hypsiboas'], 1,inplace=True)\n",
    "Y_test['Genus'].replace(['Ameerega'], 2,inplace=True)\n",
    "Y_test['Genus'].replace(['Osteocephalus'], 3,inplace=True)\n",
    "Y_test['Genus'].replace(['Leptodactylus'], 4,inplace=True)\n",
    "Y_test['Genus'].replace(['Dendropsophus'], 5,inplace=True)\n",
    "Y_test['Genus'].replace(['Scinax'], 6,inplace=True)\n",
    "Y_test['Genus'].replace(['Rhinella'], 7,inplace=True)"
   ]
  },
  {
   "cell_type": "code",
   "execution_count": null,
   "metadata": {},
   "outputs": [],
   "source": [
    "Y['Genus'].replace(['Adenomera'], 0,inplace=True)\n",
    "Y['Genus'].replace(['Hypsiboas'], 1,inplace=True)\n",
    "Y['Genus'].replace(['Ameerega'], 2,inplace=True)\n",
    "Y['Genus'].replace(['Osteocephalus'], 3,inplace=True)\n",
    "Y['Genus'].replace(['Leptodactylus'], 4,inplace=True)\n",
    "Y['Genus'].replace(['Dendropsophus'], 5,inplace=True)\n",
    "Y['Genus'].replace(['Scinax'], 6,inplace=True)\n",
    "Y['Genus'].replace(['Rhinella'], 7,inplace=True)"
   ]
  },
  {
   "cell_type": "code",
   "execution_count": 13,
   "metadata": {},
   "outputs": [],
   "source": [
    "import warnings\n",
    "warnings.filterwarnings('ignore')\n",
    "Y['Species'].replace(['AdenomeraAndre'], 0,inplace=True)\n",
    "Y['Species'].replace(['AdenomeraHylaedactylus'], 1,inplace=True)\n",
    "Y['Species'].replace(['HypsiboasCinerascens'], 2,inplace=True)\n",
    "Y['Species'].replace(['HypsiboasCordobae'], 3,inplace=True)\n",
    "Y['Species'].replace(['Ameeregatrivittata'], 4,inplace=True)\n",
    "Y['Species'].replace(['OsteocephalusOophagus'], 5,inplace=True)\n",
    "Y['Species'].replace(['LeptodactylusFuscus'], 6,inplace=True)\n",
    "Y['Species'].replace(['HylaMinuta'], 7,inplace=True)\n",
    "Y['Species'].replace(['ScinaxRuber'], 8,inplace=True)\n",
    "Y['Species'].replace(['Rhinellagranulosa'], 9,inplace=True)"
   ]
  },
  {
   "cell_type": "code",
   "execution_count": 55,
   "metadata": {},
   "outputs": [],
   "source": [
    "warnings.filterwarnings('ignore')\n",
    "Y_test['Species'].replace(['AdenomeraAndre'], 0,inplace=True)\n",
    "Y_test['Species'].replace(['AdenomeraHylaedactylus'], 1,inplace=True)\n",
    "Y_test['Species'].replace(['HypsiboasCinerascens'], 2,inplace=True)\n",
    "Y_test['Species'].replace(['HypsiboasCordobae'], 3,inplace=True)\n",
    "Y_test['Species'].replace(['Ameeregatrivittata'], 4,inplace=True)\n",
    "Y_test['Species'].replace(['OsteocephalusOophagus'], 5,inplace=True)\n",
    "Y_test['Species'].replace(['LeptodactylusFuscus'], 6,inplace=True)\n",
    "Y_test['Species'].replace(['HylaMinuta'], 7,inplace=True)\n",
    "Y_test['Species'].replace(['ScinaxRuber'], 8,inplace=True)\n",
    "Y_test['Species'].replace(['Rhinellagranulosa'], 9,inplace=True)\n",
    "\n",
    "################### Standardize the X values ...................\n",
    "from sklearn.preprocessing import StandardScaler\n",
    "scaler = StandardScaler()\n",
    "X_train = scaler.fit_transform(X)"
   ]
  },
  {
   "cell_type": "code",
   "execution_count": 14,
   "metadata": {},
   "outputs": [],
   "source": [
    "Y_family = Y[['Family']]"
   ]
  },
  {
   "cell_type": "markdown",
   "metadata": {},
   "source": [
    "# 1(b.) (ii.) Gaussian Kernals with GridSearchCV and OVR: "
   ]
  },
  {
   "cell_type": "code",
   "execution_count": 28,
   "metadata": {},
   "outputs": [],
   "source": [
    "from sklearn.model_selection import GridSearchCV\n",
    "\n",
    "# Create my estimator and prepare the parameter grid dictionary\n",
    "params_dict = {\"C\": np.logspace(-2, 10, 10), \"gamma\": np.linspace(0.0001, 10, 10)}\n",
    "svm = SVC(kernel=\"rbf\")\n",
    "# Fit the grid search\n",
    "search = GridSearchCV(estimator=svm, param_grid=params_dict,cv=10)"
   ]
  },
  {
   "cell_type": "code",
   "execution_count": 17,
   "metadata": {},
   "outputs": [
    {
     "data": {
      "text/plain": [
       "{'C': array([  1.00000000e-02,   2.15443469e-01,   4.64158883e+00,\n",
       "          1.00000000e+02,   2.15443469e+03,   4.64158883e+04,\n",
       "          1.00000000e+06,   2.15443469e+07,   4.64158883e+08,\n",
       "          1.00000000e+10]),\n",
       " 'gamma': array([  1.00000000e-04,   1.11120000e+00,   2.22230000e+00,\n",
       "          3.33340000e+00,   4.44450000e+00,   5.55560000e+00,\n",
       "          6.66670000e+00,   7.77780000e+00,   8.88890000e+00,\n",
       "          1.00000000e+01])}"
      ]
     },
     "execution_count": 17,
     "metadata": {},
     "output_type": "execute_result"
    }
   ],
   "source": [
    "params_dict"
   ]
  },
  {
   "cell_type": "code",
   "execution_count": 18,
   "metadata": {},
   "outputs": [
    {
     "data": {
      "text/plain": [
       "OneVsRestClassifier(estimator=GridSearchCV(cv=10, error_score='raise',\n",
       "       estimator=SVC(C=1.0, cache_size=200, class_weight=None, coef0=0.0,\n",
       "  decision_function_shape='ovr', degree=3, gamma='auto', kernel='rbf',\n",
       "  max_iter=-1, probability=False, random_state=None, shrinking=True,\n",
       "  tol=0.001, verbose=False),\n",
       "      ...     pre_dispatch='2*n_jobs', refit=True, return_train_score='warn',\n",
       "       scoring=None, verbose=0),\n",
       "          n_jobs=1)"
      ]
     },
     "execution_count": 18,
     "metadata": {},
     "output_type": "execute_result"
    }
   ],
   "source": [
    "from sklearn.multiclass import OneVsRestClassifier\n",
    "OneVsRestClassifier(search).fit(X,Y_family)"
   ]
  },
  {
   "cell_type": "markdown",
   "metadata": {},
   "source": [
    "# Train for Family : "
   ]
  },
  {
   "cell_type": "code",
   "execution_count": 33,
   "metadata": {},
   "outputs": [
    {
     "data": {
      "text/plain": [
       "GridSearchCV(cv=10, error_score='raise',\n",
       "       estimator=SVC(C=1.0, cache_size=200, class_weight=None, coef0=0.0,\n",
       "  decision_function_shape='ovr', degree=3, gamma='auto', kernel='rbf',\n",
       "  max_iter=-1, probability=False, random_state=None, shrinking=True,\n",
       "  tol=0.001, verbose=False),\n",
       "       fit_params=None, iid=True, n_jobs=1,\n",
       "       param_grid={'C': array([  1.00000e-02,   2.15443e-01,   4.64159e+00,   1.00000e+02,\n",
       "         2.15443e+03,   4.64159e+04,   1.00000e+06,   2.15443e+07,\n",
       "         4.64159e+08,   1.00000e+10]), 'gamma': array([  1.00000e-04,   1.11120e+00,   2.22230e+00,   3.33340e+00,\n",
       "         4.44450e+00,   5.55560e+00,   6.66670e+00,   7.77780e+00,\n",
       "         8.88890e+00,   1.00000e+01])},\n",
       "       pre_dispatch='2*n_jobs', refit=True, return_train_score='warn',\n",
       "       scoring=None, verbose=0)"
      ]
     },
     "execution_count": 33,
     "metadata": {},
     "output_type": "execute_result"
    }
   ],
   "source": [
    "search.fit(X,Y_family)"
   ]
  },
  {
   "cell_type": "code",
   "execution_count": 34,
   "metadata": {},
   "outputs": [
    {
     "name": "stdout",
     "output_type": "stream",
     "text": [
      "Best parameter values: {'C': 100.0, 'gamma': 2.2223000000000002}\n",
      "CV Score with best parameter values: 0.99285146942\n"
     ]
    }
   ],
   "source": [
    "print(\"Best parameter values:\", search.best_params_)\n",
    "print(\"CV Score with best parameter values:\", search.best_score_)"
   ]
  },
  {
   "cell_type": "markdown",
   "metadata": {},
   "source": [
    "# Train for Genus : "
   ]
  },
  {
   "cell_type": "code",
   "execution_count": 35,
   "metadata": {},
   "outputs": [],
   "source": [
    "Y_genus = Y[['Genus']]"
   ]
  },
  {
   "cell_type": "code",
   "execution_count": 36,
   "metadata": {},
   "outputs": [
    {
     "data": {
      "text/plain": [
       "GridSearchCV(cv=10, error_score='raise',\n",
       "       estimator=SVC(C=1.0, cache_size=200, class_weight=None, coef0=0.0,\n",
       "  decision_function_shape='ovr', degree=3, gamma='auto', kernel='rbf',\n",
       "  max_iter=-1, probability=False, random_state=None, shrinking=True,\n",
       "  tol=0.001, verbose=False),\n",
       "       fit_params=None, iid=True, n_jobs=1,\n",
       "       param_grid={'C': array([  1.00000e-02,   2.15443e-01,   4.64159e+00,   1.00000e+02,\n",
       "         2.15443e+03,   4.64159e+04,   1.00000e+06,   2.15443e+07,\n",
       "         4.64159e+08,   1.00000e+10]), 'gamma': array([  1.00000e-04,   1.11120e+00,   2.22230e+00,   3.33340e+00,\n",
       "         4.44450e+00,   5.55560e+00,   6.66670e+00,   7.77780e+00,\n",
       "         8.88890e+00,   1.00000e+01])},\n",
       "       pre_dispatch='2*n_jobs', refit=True, return_train_score='warn',\n",
       "       scoring=None, verbose=0)"
      ]
     },
     "execution_count": 36,
     "metadata": {},
     "output_type": "execute_result"
    }
   ],
   "source": [
    "search.fit(X,Y_genus)"
   ]
  },
  {
   "cell_type": "code",
   "execution_count": 37,
   "metadata": {},
   "outputs": [
    {
     "name": "stdout",
     "output_type": "stream",
     "text": [
      "Best parameter values: {'C': 100.0, 'gamma': 1.1112}\n",
      "CV Score with best parameter values: 0.990667196187\n"
     ]
    }
   ],
   "source": [
    "print(\"Best parameter values:\", search.best_params_)\n",
    "print(\"CV Score with best parameter values:\", search.best_score_)"
   ]
  },
  {
   "cell_type": "markdown",
   "metadata": {},
   "source": [
    "# Train for Species : "
   ]
  },
  {
   "cell_type": "code",
   "execution_count": 38,
   "metadata": {},
   "outputs": [],
   "source": [
    "Y_species = Y[['Species']]"
   ]
  },
  {
   "cell_type": "code",
   "execution_count": 39,
   "metadata": {},
   "outputs": [
    {
     "data": {
      "text/plain": [
       "GridSearchCV(cv=10, error_score='raise',\n",
       "       estimator=SVC(C=1.0, cache_size=200, class_weight=None, coef0=0.0,\n",
       "  decision_function_shape='ovr', degree=3, gamma='auto', kernel='rbf',\n",
       "  max_iter=-1, probability=False, random_state=None, shrinking=True,\n",
       "  tol=0.001, verbose=False),\n",
       "       fit_params=None, iid=True, n_jobs=1,\n",
       "       param_grid={'C': array([  1.00000e-02,   2.15443e-01,   4.64159e+00,   1.00000e+02,\n",
       "         2.15443e+03,   4.64159e+04,   1.00000e+06,   2.15443e+07,\n",
       "         4.64159e+08,   1.00000e+10]), 'gamma': array([  1.00000e-04,   1.11120e+00,   2.22230e+00,   3.33340e+00,\n",
       "         4.44450e+00,   5.55560e+00,   6.66670e+00,   7.77780e+00,\n",
       "         8.88890e+00,   1.00000e+01])},\n",
       "       pre_dispatch='2*n_jobs', refit=True, return_train_score='warn',\n",
       "       scoring=None, verbose=0)"
      ]
     },
     "execution_count": 39,
     "metadata": {},
     "output_type": "execute_result"
    }
   ],
   "source": [
    "search.fit(X,Y_species)"
   ]
  },
  {
   "cell_type": "code",
   "execution_count": 40,
   "metadata": {},
   "outputs": [
    {
     "name": "stdout",
     "output_type": "stream",
     "text": [
      "Best parameter values: {'C': 100.0, 'gamma': 2.2223000000000002}\n",
      "CV Score with best parameter values: 0.990071485306\n"
     ]
    }
   ],
   "source": [
    "print(\"Best parameter values:\", search.best_params_)\n",
    "print(\"CV Score with best parameter values:\", search.best_score_)"
   ]
  },
  {
   "cell_type": "markdown",
   "metadata": {},
   "source": [
    "# 1(b.) (ii.) L1 Penalized SVM "
   ]
  },
  {
   "cell_type": "markdown",
   "metadata": {},
   "source": [
    "# Standaradize the attributes!"
   ]
  },
  {
   "cell_type": "code",
   "execution_count": 41,
   "metadata": {},
   "outputs": [],
   "source": [
    "from sklearn.preprocessing import StandardScaler\n",
    "scaler = StandardScaler()\n",
    "X_train = scaler.fit_transform(X)"
   ]
  },
  {
   "cell_type": "code",
   "execution_count": 42,
   "metadata": {},
   "outputs": [],
   "source": [
    "Y_train = scaler.fit_transform(Y)"
   ]
  },
  {
   "cell_type": "code",
   "execution_count": 43,
   "metadata": {},
   "outputs": [],
   "source": [
    "param_grid = {'SVC__C':np.arange(0.01,100,10)}"
   ]
  },
  {
   "cell_type": "code",
   "execution_count": 44,
   "metadata": {},
   "outputs": [
    {
     "data": {
      "text/plain": [
       "{'SVC__C': array([  1.00000000e-02,   1.00100000e+01,   2.00100000e+01,\n",
       "          3.00100000e+01,   4.00100000e+01,   5.00100000e+01,\n",
       "          6.00100000e+01,   7.00100000e+01,   8.00100000e+01,\n",
       "          9.00100000e+01])}"
      ]
     },
     "execution_count": 44,
     "metadata": {},
     "output_type": "execute_result"
    }
   ],
   "source": [
    "param_grid"
   ]
  },
  {
   "cell_type": "code",
   "execution_count": 88,
   "metadata": {},
   "outputs": [],
   "source": [
    "from sklearn.pipeline import Pipeline\n",
    "from sklearn.svm import LinearSVC\n",
    "from sklearn.model_selection import GridSearchCV\n",
    "from sklearn.preprocessing import StandardScaler\n",
    "\n",
    "SVCpipe = Pipeline([('scale', StandardScaler()),\n",
    "                   ('SVC',LinearSVC(penalty='l1',loss='squared_hinge', dual=False))])\n",
    "linearSVC = GridSearchCV(SVCpipe,param_grid,cv=10,return_train_score=True)\n"
   ]
  },
  {
   "cell_type": "markdown",
   "metadata": {},
   "source": [
    "# Train L1 SVC for Family "
   ]
  },
  {
   "cell_type": "code",
   "execution_count": 89,
   "metadata": {},
   "outputs": [
    {
     "data": {
      "text/plain": [
       "GridSearchCV(cv=10, error_score='raise',\n",
       "       estimator=Pipeline(memory=None,\n",
       "     steps=[('scale', StandardScaler(copy=True, with_mean=True, with_std=True)), ('SVC', LinearSVC(C=1.0, class_weight=None, dual=False, fit_intercept=True,\n",
       "     intercept_scaling=1, loss='squared_hinge', max_iter=1000,\n",
       "     multi_class='ovr', penalty='l1', random_state=None, tol=0.0001,\n",
       "     verbose=0))]),\n",
       "       fit_params=None, iid=True, n_jobs=1,\n",
       "       param_grid={'SVC__C': array([  1.00000e-02,   1.00100e+01,   2.00100e+01,   3.00100e+01,\n",
       "         4.00100e+01,   5.00100e+01,   6.00100e+01,   7.00100e+01,\n",
       "         8.00100e+01,   9.00100e+01])},\n",
       "       pre_dispatch='2*n_jobs', refit=True, return_train_score=True,\n",
       "       scoring=None, verbose=0)"
      ]
     },
     "execution_count": 89,
     "metadata": {},
     "output_type": "execute_result"
    }
   ],
   "source": [
    "linearSVC.fit(X,Y_family)"
   ]
  },
  {
   "cell_type": "code",
   "execution_count": 90,
   "metadata": {},
   "outputs": [],
   "source": [
    "y_pred_family = linearSVC.predict(X_test)"
   ]
  },
  {
   "cell_type": "code",
   "execution_count": 96,
   "metadata": {},
   "outputs": [
    {
     "name": "stdout",
     "output_type": "stream",
     "text": [
      "The hamming score is : \n",
      "0.942566002779\n"
     ]
    }
   ],
   "source": [
    "from sklearn.metrics import accuracy_score\n",
    "from sklearn.metrics import hamming_loss\n",
    "print(\"The hamming score is : \")\n",
    "print(1-hamming_loss(Y_test[['Family']],y_pred_family))"
   ]
  },
  {
   "cell_type": "code",
   "execution_count": 97,
   "metadata": {},
   "outputs": [
    {
     "data": {
      "text/plain": [
       "0.94256600277906433"
      ]
     },
     "execution_count": 97,
     "metadata": {},
     "output_type": "execute_result"
    }
   ],
   "source": [
    "accuracy_score(y_pred_family,Y_test[['Family']])"
   ]
  },
  {
   "cell_type": "code",
   "execution_count": 98,
   "metadata": {},
   "outputs": [
    {
     "name": "stdout",
     "output_type": "stream",
     "text": [
      "{'SVC__C': 10.01}\n"
     ]
    },
    {
     "data": {
      "text/plain": [
       "0.93566322478157271"
      ]
     },
     "execution_count": 98,
     "metadata": {},
     "output_type": "execute_result"
    }
   ],
   "source": [
    "print(linearSVC.best_params_)\n",
    "#linearSVC.coef_\n",
    "#linearSVC.intercept_\n",
    "\n",
    "bestlinearSVC = linearSVC.best_estimator_\n",
    "bestlinearSVC.coef_ = bestlinearSVC.named_steps['SVC'].coef_\n",
    "bestlinearSVC.score(X, Y_family)"
   ]
  },
  {
   "cell_type": "markdown",
   "metadata": {},
   "source": [
    "# Train L1 SVC for Genus"
   ]
  },
  {
   "cell_type": "code",
   "execution_count": 99,
   "metadata": {},
   "outputs": [
    {
     "data": {
      "text/plain": [
       "GridSearchCV(cv=10, error_score='raise',\n",
       "       estimator=Pipeline(memory=None,\n",
       "     steps=[('scale', StandardScaler(copy=True, with_mean=True, with_std=True)), ('SVC', LinearSVC(C=1.0, class_weight=None, dual=False, fit_intercept=True,\n",
       "     intercept_scaling=1, loss='squared_hinge', max_iter=1000,\n",
       "     multi_class='ovr', penalty='l1', random_state=None, tol=0.0001,\n",
       "     verbose=0))]),\n",
       "       fit_params=None, iid=True, n_jobs=1,\n",
       "       param_grid={'SVC__C': array([  1.00000e-02,   1.00100e+01,   2.00100e+01,   3.00100e+01,\n",
       "         4.00100e+01,   5.00100e+01,   6.00100e+01,   7.00100e+01,\n",
       "         8.00100e+01,   9.00100e+01])},\n",
       "       pre_dispatch='2*n_jobs', refit=True, return_train_score=True,\n",
       "       scoring=None, verbose=0)"
      ]
     },
     "execution_count": 99,
     "metadata": {},
     "output_type": "execute_result"
    }
   ],
   "source": [
    "linearSVC.fit(X,Y_genus)"
   ]
  },
  {
   "cell_type": "code",
   "execution_count": 100,
   "metadata": {},
   "outputs": [
    {
     "name": "stdout",
     "output_type": "stream",
     "text": [
      "The hamming score is : \n",
      "0.951366373321\n"
     ]
    }
   ],
   "source": [
    "y_pred_genus = linearSVC.predict(X_test)\n",
    "print(\"The hamming score is : \")\n",
    "print(1-hamming_loss(Y_test[['Genus']],y_pred_genus))"
   ]
  },
  {
   "cell_type": "code",
   "execution_count": 101,
   "metadata": {},
   "outputs": [
    {
     "data": {
      "text/plain": [
       "0.95136637332098195"
      ]
     },
     "execution_count": 101,
     "metadata": {},
     "output_type": "execute_result"
    }
   ],
   "source": [
    "from sklearn.metrics import accuracy_score\n",
    "accuracy_score(y_pred_genus,Y_test[['Genus']])"
   ]
  },
  {
   "cell_type": "code",
   "execution_count": 102,
   "metadata": {},
   "outputs": [],
   "source": [
    "bestlinearSVC = linearSVC.best_estimator_\n",
    "bestlinearSVC.coef_ = bestlinearSVC.named_steps['SVC'].coef_"
   ]
  },
  {
   "cell_type": "markdown",
   "metadata": {},
   "source": [
    "# Train L1 SVC for Species"
   ]
  },
  {
   "cell_type": "code",
   "execution_count": 103,
   "metadata": {},
   "outputs": [
    {
     "data": {
      "text/plain": [
       "GridSearchCV(cv=10, error_score='raise',\n",
       "       estimator=Pipeline(memory=None,\n",
       "     steps=[('scale', StandardScaler(copy=True, with_mean=True, with_std=True)), ('SVC', LinearSVC(C=1.0, class_weight=None, dual=False, fit_intercept=True,\n",
       "     intercept_scaling=1, loss='squared_hinge', max_iter=1000,\n",
       "     multi_class='ovr', penalty='l1', random_state=None, tol=0.0001,\n",
       "     verbose=0))]),\n",
       "       fit_params=None, iid=True, n_jobs=1,\n",
       "       param_grid={'SVC__C': array([  1.00000e-02,   1.00100e+01,   2.00100e+01,   3.00100e+01,\n",
       "         4.00100e+01,   5.00100e+01,   6.00100e+01,   7.00100e+01,\n",
       "         8.00100e+01,   9.00100e+01])},\n",
       "       pre_dispatch='2*n_jobs', refit=True, return_train_score=True,\n",
       "       scoring=None, verbose=0)"
      ]
     },
     "execution_count": 103,
     "metadata": {},
     "output_type": "execute_result"
    }
   ],
   "source": [
    "linearSVC.fit(X,Y_species)"
   ]
  },
  {
   "cell_type": "code",
   "execution_count": 104,
   "metadata": {},
   "outputs": [],
   "source": [
    "y_pred_species = linearSVC.predict(X_test)"
   ]
  },
  {
   "cell_type": "code",
   "execution_count": 105,
   "metadata": {},
   "outputs": [
    {
     "name": "stdout",
     "output_type": "stream",
     "text": [
      "The hamming score is : \n",
      "0.957850856878\n"
     ]
    },
    {
     "data": {
      "text/plain": [
       "0.093561834182491893"
      ]
     },
     "execution_count": 105,
     "metadata": {},
     "output_type": "execute_result"
    }
   ],
   "source": [
    "from sklearn.metrics import accuracy_score\n",
    "print(\"The hamming score is : \")\n",
    "print(1-hamming_loss(Y_test[['Species']],y_pred_species))\n",
    "accuracy_score(y_pred_genus,Y_test[['Species']])"
   ]
  },
  {
   "cell_type": "code",
   "execution_count": 70,
   "metadata": {},
   "outputs": [],
   "source": [
    "bestlinearSVC = linearSVC.best_estimator_\n",
    "bestlinearSVC.coef_ = bestlinearSVC.named_steps['SVC'].coef_"
   ]
  },
  {
   "cell_type": "markdown",
   "metadata": {},
   "source": [
    "# 1(b. ) (iv.) SMOTE for class imbalance!"
   ]
  },
  {
   "cell_type": "markdown",
   "metadata": {},
   "source": [
    "# Smote Preparation "
   ]
  },
  {
   "cell_type": "code",
   "execution_count": 106,
   "metadata": {},
   "outputs": [],
   "source": [
    "from imblearn.over_sampling import SMOTE\n",
    "sm = SMOTE(random_state=12, ratio = 1.0)\n",
    "\n",
    "\n"
   ]
  },
  {
   "cell_type": "code",
   "execution_count": 107,
   "metadata": {},
   "outputs": [],
   "source": [
    "X_train_res, y_train_res_fam = sm.fit_sample(X,Y[['Family']])"
   ]
  },
  {
   "cell_type": "markdown",
   "metadata": {},
   "source": [
    "# Smote preparation and SVC  for Family: "
   ]
  },
  {
   "cell_type": "code",
   "execution_count": 108,
   "metadata": {},
   "outputs": [
    {
     "data": {
      "text/plain": [
       "GridSearchCV(cv=10, error_score='raise',\n",
       "       estimator=Pipeline(memory=None,\n",
       "     steps=[('scale', StandardScaler(copy=True, with_mean=True, with_std=True)), ('SVC', LinearSVC(C=1.0, class_weight=None, dual=False, fit_intercept=True,\n",
       "     intercept_scaling=1, loss='squared_hinge', max_iter=1000,\n",
       "     multi_class='ovr', penalty='l1', random_state=None, tol=0.0001,\n",
       "     verbose=0))]),\n",
       "       fit_params=None, iid=True, n_jobs=1,\n",
       "       param_grid={'SVC__C': array([  1.00000e-02,   1.00100e+01,   2.00100e+01,   3.00100e+01,\n",
       "         4.00100e+01,   5.00100e+01,   6.00100e+01,   7.00100e+01,\n",
       "         8.00100e+01,   9.00100e+01])},\n",
       "       pre_dispatch='2*n_jobs', refit=True, return_train_score=True,\n",
       "       scoring=None, verbose=0)"
      ]
     },
     "execution_count": 108,
     "metadata": {},
     "output_type": "execute_result"
    }
   ],
   "source": [
    "linearSVC.fit(X_train_res, y_train_res_fam)"
   ]
  },
  {
   "cell_type": "code",
   "execution_count": 109,
   "metadata": {},
   "outputs": [],
   "source": [
    "y_pred_family = linearSVC.predict(X_test)"
   ]
  },
  {
   "cell_type": "code",
   "execution_count": 111,
   "metadata": {},
   "outputs": [
    {
     "name": "stdout",
     "output_type": "stream",
     "text": [
      "The hamming score is : \n",
      "0.915701713756\n",
      "Accuracy score:\n"
     ]
    },
    {
     "data": {
      "text/plain": [
       "0.91570171375636866"
      ]
     },
     "execution_count": 111,
     "metadata": {},
     "output_type": "execute_result"
    }
   ],
   "source": [
    "from sklearn.metrics import accuracy_score\n",
    "print(\"The hamming score is : \")\n",
    "print(1-hamming_loss(Y_test[['Family']],y_pred_family))\n",
    "print(\"Accuracy score:\")\n",
    "accuracy_score(y_pred_family,Y_test[['Family']])"
   ]
  },
  {
   "cell_type": "code",
   "execution_count": 112,
   "metadata": {},
   "outputs": [],
   "source": [
    "from sklearn.metrics import confusion_matrix"
   ]
  },
  {
   "cell_type": "code",
   "execution_count": 114,
   "metadata": {},
   "outputs": [
    {
     "data": {
      "text/plain": [
       "array([[1249,   35,    2,    0],\n",
       "       [  42,  556,    1,    0],\n",
       "       [  22,   27,  154,    0],\n",
       "       [  30,   23,    0,   18]])"
      ]
     },
     "execution_count": 114,
     "metadata": {},
     "output_type": "execute_result"
    }
   ],
   "source": [
    "confusion_matrix(y_pred_family,Y_test[['Family']])"
   ]
  },
  {
   "cell_type": "markdown",
   "metadata": {},
   "source": [
    "# Smote preparation and SVC for Genus "
   ]
  },
  {
   "cell_type": "code",
   "execution_count": 116,
   "metadata": {},
   "outputs": [],
   "source": [
    "X_train_res, y_train_res_gen = sm.fit_sample(X,Y[['Genus']])"
   ]
  },
  {
   "cell_type": "code",
   "execution_count": 117,
   "metadata": {},
   "outputs": [
    {
     "data": {
      "text/plain": [
       "GridSearchCV(cv=10, error_score='raise',\n",
       "       estimator=Pipeline(memory=None,\n",
       "     steps=[('scale', StandardScaler(copy=True, with_mean=True, with_std=True)), ('SVC', LinearSVC(C=1.0, class_weight=None, dual=False, fit_intercept=True,\n",
       "     intercept_scaling=1, loss='squared_hinge', max_iter=1000,\n",
       "     multi_class='ovr', penalty='l1', random_state=None, tol=0.0001,\n",
       "     verbose=0))]),\n",
       "       fit_params=None, iid=True, n_jobs=1,\n",
       "       param_grid={'SVC__C': array([  1.00000e-02,   1.00100e+01,   2.00100e+01,   3.00100e+01,\n",
       "         4.00100e+01,   5.00100e+01,   6.00100e+01,   7.00100e+01,\n",
       "         8.00100e+01,   9.00100e+01])},\n",
       "       pre_dispatch='2*n_jobs', refit=True, return_train_score=True,\n",
       "       scoring=None, verbose=0)"
      ]
     },
     "execution_count": 117,
     "metadata": {},
     "output_type": "execute_result"
    }
   ],
   "source": [
    "linearSVC.fit(X_train_res, y_train_res_gen)"
   ]
  },
  {
   "cell_type": "code",
   "execution_count": 118,
   "metadata": {},
   "outputs": [],
   "source": [
    "y_pred_gen = linearSVC.predict(X_test)"
   ]
  },
  {
   "cell_type": "code",
   "execution_count": 119,
   "metadata": {},
   "outputs": [
    {
     "name": "stdout",
     "output_type": "stream",
     "text": [
      "The hamming score is : \n",
      "0.90458545623\n",
      "Accuracy score:\n"
     ]
    },
    {
     "data": {
      "text/plain": [
       "0.90458545622973596"
      ]
     },
     "execution_count": 119,
     "metadata": {},
     "output_type": "execute_result"
    }
   ],
   "source": [
    "from sklearn.metrics import accuracy_score\n",
    "print(\"The hamming score is : \")\n",
    "print(1-hamming_loss(Y_test[['Genus']],y_pred_gen))\n",
    "print(\"Accuracy score:\")\n",
    "accuracy_score(y_pred_gen,Y_test[['Genus']])"
   ]
  },
  {
   "cell_type": "code",
   "execution_count": 120,
   "metadata": {},
   "outputs": [
    {
     "data": {
      "text/plain": [
       "array([[1132,   15,    1,    1,    0,    3,    0,    0],\n",
       "       [   9,  421,    0,    2,    2,    1,    0,    0],\n",
       "       [  24,    0,  145,    0,    0,    3,    0,    0],\n",
       "       [  23,   19,    0,   36,    0,    0,    0,    0],\n",
       "       [   0,    5,    0,    1,   81,    1,    0,    0],\n",
       "       [  43,    0,   10,    0,    1,   85,    0,    0],\n",
       "       [   2,    2,    0,    0,    0,    0,   35,    0],\n",
       "       [  26,    8,    1,    1,    0,    1,    1,   18]])"
      ]
     },
     "execution_count": 120,
     "metadata": {},
     "output_type": "execute_result"
    }
   ],
   "source": [
    "confusion_matrix(y_pred_gen,Y_test[['Genus']])"
   ]
  },
  {
   "cell_type": "markdown",
   "metadata": {},
   "source": [
    "# Smote Preparation and SVC for Species"
   ]
  },
  {
   "cell_type": "code",
   "execution_count": 121,
   "metadata": {},
   "outputs": [],
   "source": [
    "X_train_res, y_train_res_species = sm.fit_sample(X,Y[['Species']])"
   ]
  },
  {
   "cell_type": "code",
   "execution_count": 122,
   "metadata": {},
   "outputs": [
    {
     "data": {
      "text/plain": [
       "GridSearchCV(cv=10, error_score='raise',\n",
       "       estimator=Pipeline(memory=None,\n",
       "     steps=[('scale', StandardScaler(copy=True, with_mean=True, with_std=True)), ('SVC', LinearSVC(C=1.0, class_weight=None, dual=False, fit_intercept=True,\n",
       "     intercept_scaling=1, loss='squared_hinge', max_iter=1000,\n",
       "     multi_class='ovr', penalty='l1', random_state=None, tol=0.0001,\n",
       "     verbose=0))]),\n",
       "       fit_params=None, iid=True, n_jobs=1,\n",
       "       param_grid={'SVC__C': array([  1.00000e-02,   1.00100e+01,   2.00100e+01,   3.00100e+01,\n",
       "         4.00100e+01,   5.00100e+01,   6.00100e+01,   7.00100e+01,\n",
       "         8.00100e+01,   9.00100e+01])},\n",
       "       pre_dispatch='2*n_jobs', refit=True, return_train_score=True,\n",
       "       scoring=None, verbose=0)"
      ]
     },
     "execution_count": 122,
     "metadata": {},
     "output_type": "execute_result"
    }
   ],
   "source": [
    "linearSVC.fit(X_train_res, y_train_res_species)"
   ]
  },
  {
   "cell_type": "code",
   "execution_count": 123,
   "metadata": {},
   "outputs": [],
   "source": [
    "y_pred_species = linearSVC.predict(X_test)"
   ]
  },
  {
   "cell_type": "code",
   "execution_count": 124,
   "metadata": {},
   "outputs": [
    {
     "name": "stdout",
     "output_type": "stream",
     "text": [
      "The hamming score is : \n",
      "0.951366373321\n",
      "Accuracy score:\n"
     ]
    },
    {
     "data": {
      "text/plain": [
       "0.95136637332098195"
      ]
     },
     "execution_count": 124,
     "metadata": {},
     "output_type": "execute_result"
    }
   ],
   "source": [
    "from sklearn.metrics import accuracy_score\n",
    "print(\"The hamming score is : \")\n",
    "print(1-hamming_loss(Y_test[['Species']],y_pred_species))\n",
    "print(\"Accuracy score:\")\n",
    "accuracy_score(y_pred_species,Y_test[['Species']])"
   ]
  },
  {
   "cell_type": "code",
   "execution_count": 125,
   "metadata": {},
   "outputs": [
    {
     "data": {
      "text/plain": [
       "array([[ 198,    0,    2,    1,    5,    3,    0,    3,    0,    0],\n",
       "       [   0, 1035,    0,    5,    0,    0,    1,    1,    0,    0],\n",
       "       [   0,    2,  126,    9,    0,    3,    0,    0,    0,    0],\n",
       "       [   1,    0,    1,  307,    0,    2,    1,    1,    1,    0],\n",
       "       [   7,    0,    0,    0,  140,    0,    0,    3,    0,    0],\n",
       "       [   4,    0,    4,    3,    0,   31,    0,    0,    0,    0],\n",
       "       [   0,    0,    0,    5,    0,    1,   81,    1,    0,    0],\n",
       "       [   5,    1,    0,    0,   10,    0,    1,   83,    0,    0],\n",
       "       [   1,    3,    0,    1,    0,    0,    0,    0,   35,    0],\n",
       "       [   1,    1,    0,    6,    2,    1,    0,    2,    0,   18]])"
      ]
     },
     "execution_count": 125,
     "metadata": {},
     "output_type": "execute_result"
    }
   ],
   "source": [
    "confusion_matrix(y_pred_species,Y_test[['Species']])"
   ]
  },
  {
   "cell_type": "markdown",
   "metadata": {},
   "source": [
    "# Note : "
   ]
  },
  {
   "cell_type": "markdown",
   "metadata": {},
   "source": [
    "# Among the Classifiers : Gaussian gave the best result. SMOTE took time and resolved class imbalance"
   ]
  },
  {
   "cell_type": "code",
   "execution_count": null,
   "metadata": {},
   "outputs": [],
   "source": []
  }
 ],
 "metadata": {
  "kernelspec": {
   "display_name": "Python 3",
   "language": "python",
   "name": "python3"
  },
  "language_info": {
   "codemirror_mode": {
    "name": "ipython",
    "version": 3
   },
   "file_extension": ".py",
   "mimetype": "text/x-python",
   "name": "python",
   "nbconvert_exporter": "python",
   "pygments_lexer": "ipython3",
   "version": "3.6.5"
  }
 },
 "nbformat": 4,
 "nbformat_minor": 2
}
