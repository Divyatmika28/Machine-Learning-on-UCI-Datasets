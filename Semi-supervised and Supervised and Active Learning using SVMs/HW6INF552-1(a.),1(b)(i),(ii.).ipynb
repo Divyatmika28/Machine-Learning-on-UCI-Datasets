{
 "cells": [
  {
   "cell_type": "markdown",
   "metadata": {},
   "source": [
    "# 1(a.)"
   ]
  },
  {
   "cell_type": "code",
   "execution_count": 11,
   "metadata": {},
   "outputs": [],
   "source": [
    "import pandas as pd\n",
    "dataset = pd.read_csv('/Users/divyatmika/Desktop/Di/wdbc.csv')"
   ]
  },
  {
   "cell_type": "code",
   "execution_count": 16,
   "metadata": {},
   "outputs": [
    {
     "name": "stdout",
     "output_type": "stream",
     "text": [
      "No of rows:\n",
      "569\n",
      "No of columns:\n",
      "32\n"
     ]
    }
   ],
   "source": [
    "print(\"No of rows:\")\n",
    "print(dataset.shape[0])\n",
    "print(\"No of columns:\")\n",
    "print(dataset.shape[1])"
   ]
  },
  {
   "cell_type": "markdown",
   "metadata": {},
   "source": [
    "# Dividing into test and train set"
   ]
  },
  {
   "cell_type": "code",
   "execution_count": 17,
   "metadata": {},
   "outputs": [],
   "source": [
    "# 20 percent from positive and from negative class in test dataset"
   ]
  },
  {
   "cell_type": "code",
   "execution_count": 25,
   "metadata": {},
   "outputs": [],
   "source": [
    "mali_data = dataset.loc[dataset['Diag'] == 'M']"
   ]
  },
  {
   "cell_type": "code",
   "execution_count": 26,
   "metadata": {},
   "outputs": [
    {
     "data": {
      "text/plain": [
       "(212, 32)"
      ]
     },
     "execution_count": 26,
     "metadata": {},
     "output_type": "execute_result"
    }
   ],
   "source": [
    "mali_data.shape"
   ]
  },
  {
   "cell_type": "code",
   "execution_count": 33,
   "metadata": {},
   "outputs": [],
   "source": [
    "#first 20 % of 212 = 42 rows \n",
    "mail_data_test = mali_data[:42]\n",
    "mail_data_train = mali_data[42:]"
   ]
  },
  {
   "cell_type": "code",
   "execution_count": 34,
   "metadata": {},
   "outputs": [
    {
     "data": {
      "text/plain": [
       "(357, 32)"
      ]
     },
     "execution_count": 34,
     "metadata": {},
     "output_type": "execute_result"
    }
   ],
   "source": [
    "benign_data = dataset.loc[dataset['Diag'] == 'B']\n",
    "benign_data.shape"
   ]
  },
  {
   "cell_type": "code",
   "execution_count": 35,
   "metadata": {},
   "outputs": [],
   "source": [
    "benign_data_test = benign_data[:71]\n",
    "benign_data_train = benign_data[71:]"
   ]
  },
  {
   "cell_type": "code",
   "execution_count": 36,
   "metadata": {},
   "outputs": [],
   "source": [
    "train = benign_data_train.append(mail_data_train)\n",
    "test = benign_data_test.append(mail_data_test)"
   ]
  },
  {
   "cell_type": "code",
   "execution_count": 38,
   "metadata": {},
   "outputs": [
    {
     "data": {
      "text/plain": [
       "(456, 32)"
      ]
     },
     "execution_count": 38,
     "metadata": {},
     "output_type": "execute_result"
    }
   ],
   "source": [
    "train.shape"
   ]
  },
  {
   "cell_type": "code",
   "execution_count": 40,
   "metadata": {},
   "outputs": [
    {
     "data": {
      "text/plain": [
       "(113, 32)"
      ]
     },
     "execution_count": 40,
     "metadata": {},
     "output_type": "execute_result"
    }
   ],
   "source": [
    "test.shape"
   ]
  },
  {
   "cell_type": "markdown",
   "metadata": {},
   "source": [
    "# b(i.) Supervised Learning: Train an L1-penalized SVM "
   ]
  },
  {
   "cell_type": "code",
   "execution_count": 41,
   "metadata": {},
   "outputs": [],
   "source": [
    "malign_dataset = dataset.loc[dataset['Diag'] == 'M']\n",
    "benign_dataset = dataset.loc[dataset['Diag'] == 'B']"
   ]
  },
  {
   "cell_type": "code",
   "execution_count": 43,
   "metadata": {},
   "outputs": [],
   "source": [
    "from sklearn.model_selection import train_test_split\n",
    "train_malign, test_malign = train_test_split(malign_dataset, test_size=0.2,random_state=42)\n",
    "train_benign, test_benign = train_test_split(benign_dataset, test_size=0.2,random_state=42)"
   ]
  },
  {
   "cell_type": "code",
   "execution_count": 44,
   "metadata": {},
   "outputs": [],
   "source": [
    "train_dataset = train_malign.append(train_benign)\n",
    "test_dataset = test_malign.append(test_benign)"
   ]
  },
  {
   "cell_type": "code",
   "execution_count": 73,
   "metadata": {},
   "outputs": [],
   "source": [
    "from sklearn import preprocessing\n",
    "X_train = train_dataset.drop(columns=['Diag'])\n",
    "Y_train = train_dataset[['Diag']]\n",
    "X_test = test_dataset.drop(columns=['Diag'])\n",
    "Y_test = test_dataset[['Diag']]"
   ]
  },
  {
   "cell_type": "code",
   "execution_count": 89,
   "metadata": {},
   "outputs": [],
   "source": [
    "from sklearn import preprocessing\n",
    "normalized_X_train = preprocessing.normalize(X_train)\n",
    "normalized_X_test = preprocessing.normalize(X_test)"
   ]
  },
  {
   "cell_type": "code",
   "execution_count": 74,
   "metadata": {},
   "outputs": [],
   "source": [
    "import warnings\n",
    "warnings.filterwarnings('ignore')\n",
    "Y_train['Diag'][Y_train.Diag == 'M'] = 0 \n",
    "Y_train['Diag'][Y_train.Diag == 'B'] = 1 \n",
    "Y_test['Diag'][Y_test.Diag == 'M'] = 0 \n",
    "Y_test['Diag'][Y_test.Diag == 'B'] = 1 "
   ]
  },
  {
   "cell_type": "code",
   "execution_count": 62,
   "metadata": {},
   "outputs": [],
   "source": [
    "import numpy as np\n",
    "param_grid = {'SVC__C':np.arange(0.01,100,10)}"
   ]
  },
  {
   "cell_type": "code",
   "execution_count": 63,
   "metadata": {},
   "outputs": [
    {
     "data": {
      "text/plain": [
       "{'SVC__C': array([  1.00000000e-02,   1.00100000e+01,   2.00100000e+01,\n",
       "          3.00100000e+01,   4.00100000e+01,   5.00100000e+01,\n",
       "          6.00100000e+01,   7.00100000e+01,   8.00100000e+01,\n",
       "          9.00100000e+01])}"
      ]
     },
     "execution_count": 63,
     "metadata": {},
     "output_type": "execute_result"
    }
   ],
   "source": [
    "param_grid"
   ]
  },
  {
   "cell_type": "code",
   "execution_count": 67,
   "metadata": {},
   "outputs": [],
   "source": [
    "from sklearn.pipeline import Pipeline\n",
    "from sklearn.svm import LinearSVC\n",
    "from sklearn.model_selection import GridSearchCV\n",
    "from sklearn.preprocessing import StandardScaler\n",
    "\n",
    "SVCpipe = Pipeline([('scale', StandardScaler()),\n",
    "                   ('SVC',LinearSVC(penalty='l1',loss='squared_hinge', dual=False))])\n",
    "linearSVC = GridSearchCV(SVCpipe,param_grid,cv=5,return_train_score=True)"
   ]
  },
  {
   "cell_type": "code",
   "execution_count": 68,
   "metadata": {},
   "outputs": [
    {
     "data": {
      "text/plain": [
       "GridSearchCV(cv=5, error_score='raise',\n",
       "       estimator=Pipeline(memory=None,\n",
       "     steps=[('scale', StandardScaler(copy=True, with_mean=True, with_std=True)), ('SVC', LinearSVC(C=1.0, class_weight=None, dual=False, fit_intercept=True,\n",
       "     intercept_scaling=1, loss='squared_hinge', max_iter=1000,\n",
       "     multi_class='ovr', penalty='l1', random_state=None, tol=0.0001,\n",
       "     verbose=0))]),\n",
       "       fit_params=None, iid=True, n_jobs=1,\n",
       "       param_grid={'SVC__C': array([  1.00000e-02,   1.00100e+01,   2.00100e+01,   3.00100e+01,\n",
       "         4.00100e+01,   5.00100e+01,   6.00100e+01,   7.00100e+01,\n",
       "         8.00100e+01,   9.00100e+01])},\n",
       "       pre_dispatch='2*n_jobs', refit=True, return_train_score=True,\n",
       "       scoring=None, verbose=0)"
      ]
     },
     "execution_count": 68,
     "metadata": {},
     "output_type": "execute_result"
    }
   ],
   "source": [
    "linearSVC"
   ]
  },
  {
   "cell_type": "code",
   "execution_count": 79,
   "metadata": {},
   "outputs": [],
   "source": [
    "ytrain=Y_train.astype('int')"
   ]
  },
  {
   "cell_type": "code",
   "execution_count": 81,
   "metadata": {},
   "outputs": [
    {
     "data": {
      "text/plain": [
       "GridSearchCV(cv=5, error_score='raise',\n",
       "       estimator=Pipeline(memory=None,\n",
       "     steps=[('scale', StandardScaler(copy=True, with_mean=True, with_std=True)), ('SVC', LinearSVC(C=1.0, class_weight=None, dual=False, fit_intercept=True,\n",
       "     intercept_scaling=1, loss='squared_hinge', max_iter=1000,\n",
       "     multi_class='ovr', penalty='l1', random_state=None, tol=0.0001,\n",
       "     verbose=0))]),\n",
       "       fit_params=None, iid=True, n_jobs=1,\n",
       "       param_grid={'SVC__C': array([  1.00000e-02,   1.00100e+01,   2.00100e+01,   3.00100e+01,\n",
       "         4.00100e+01,   5.00100e+01,   6.00100e+01,   7.00100e+01,\n",
       "         8.00100e+01,   9.00100e+01])},\n",
       "       pre_dispatch='2*n_jobs', refit=True, return_train_score=True,\n",
       "       scoring=None, verbose=0)"
      ]
     },
     "execution_count": 81,
     "metadata": {},
     "output_type": "execute_result"
    }
   ],
   "source": [
    "linearSVC.fit(normalized_X_train,ytrain)"
   ]
  },
  {
   "cell_type": "code",
   "execution_count": 90,
   "metadata": {},
   "outputs": [],
   "source": [
    "y_pred = linearSVC.predict(normalized_X_test)"
   ]
  },
  {
   "cell_type": "code",
   "execution_count": 97,
   "metadata": {},
   "outputs": [
    {
     "name": "stdout",
     "output_type": "stream",
     "text": [
      "nan\n",
      "0.886143410853\n",
      "0.904347826087\n",
      "[ 0.81395349  0.95833333]\n",
      "0.926174496644\n"
     ]
    }
   ],
   "source": [
    "from sklearn.metrics import accuracy_score\n",
    "from sklearn import metrics\n",
    "from sklearn.metrics import recall_score\n",
    "from sklearn.metrics import precision_score\n",
    "from sklearn.metrics import f1_score\n",
    "from sklearn.metrics import roc_auc_score\n",
    "ytest = Y_test.astype('int')\n",
    "fpr, tpr, thresholds = metrics.roc_curve(ytest, y_pred, pos_label=2)\n",
    "print(roc_auc_score(ytest, y_pred))\n",
    "print(accuracy_score(y_pred,ytest))\n",
    "print(recall_score(ytest, y_pred, average=None))\n",
    "print(f1_score(ytest,y_pred))"
   ]
  },
  {
   "cell_type": "code",
   "execution_count": 88,
   "metadata": {},
   "outputs": [
    {
     "data": {
      "text/plain": [
       "(454, 31)"
      ]
     },
     "execution_count": 88,
     "metadata": {},
     "output_type": "execute_result"
    }
   ],
   "source": [
    "normalized_X_test.shape"
   ]
  },
  {
   "cell_type": "code",
   "execution_count": 129,
   "metadata": {},
   "outputs": [],
   "source": [
    "from sklearn.model_selection import train_test_split\n",
    "from sklearn.pipeline import Pipeline\n",
    "from sklearn.svm import LinearSVC\n",
    "from sklearn.model_selection import GridSearchCV\n",
    "from sklearn.preprocessing import StandardScaler\n",
    "from sklearn.metrics import accuracy_score\n",
    "from sklearn import metrics\n",
    "from sklearn.metrics import recall_score\n",
    "from sklearn.metrics import precision_score\n",
    "from sklearn.metrics import f1_score\n",
    "from sklearn.metrics import roc_auc_score\n",
    "from random import randint\n",
    "accuracy_score_train = []\n",
    "f1_score_train = []\n",
    "recall_score_train = []\n",
    "precision_score_train = []\n",
    "auc_score_train = []\n",
    "accuracy_score_test = []\n",
    "f1_score_test = []\n",
    "recall_score_test = []\n",
    "precision_score_test = []\n",
    "auc_score_test = []\n",
    "for i in range(1,31,1):\n",
    "    random_val = randint(0, 42)\n",
    "    #Generate train and test sets \n",
    "    train_malign, test_malign = train_test_split(malign_dataset, test_size=0.2,random_state=random_val)\n",
    "    train_benign, test_benign = train_test_split(benign_dataset, test_size=0.2,random_state=random_val)\n",
    "    train_dataset = train_malign.append(train_benign)\n",
    "    test_dataset = test_malign.append(test_benign)\n",
    "    #xtrain and ytrain \n",
    "    X_train = train_dataset.drop(columns=['Diag'])\n",
    "    Y_train = train_dataset[['Diag']]\n",
    "    X_test = test_dataset.drop(columns=['Diag'])\n",
    "    Y_test = test_dataset[['Diag']]\n",
    "    #normalised. the dataset \n",
    "    normalized_X_train = preprocessing.normalize(X_train)\n",
    "    normalized_X_test = preprocessing.normalize(X_test)\n",
    "    Y_train['Diag'][Y_train.Diag == 'M'] = 0 \n",
    "    Y_train['Diag'][Y_train.Diag == 'B'] = 1 \n",
    "    Y_test['Diag'][Y_test.Diag == 'M'] = 0 \n",
    "    Y_test['Diag'][Y_test.Diag == 'B'] = 1 \n",
    "    #param grids\n",
    "    param_grid = {'SVC__C':np.arange(0.01,100,10)}\n",
    "    SVCpipe = Pipeline([('scale', StandardScaler()),\n",
    "                   ('SVC',LinearSVC(penalty='l1',loss='squared_hinge', dual=False))])\n",
    "    #Grid search \n",
    "    linearSVC = GridSearchCV(SVCpipe,param_grid,cv=5,return_train_score=True)\n",
    "    ytrain=Y_train.astype('int')\n",
    "    linearSVC.fit(normalized_X_train,ytrain)\n",
    "    #predict for test and train \n",
    "    y_pred_test = linearSVC.predict(normalized_X_test)\n",
    "    y_pred_train = linearSVC.predict(normalized_X_train)\n",
    "    ytest = Y_test.astype('int')\n",
    "    fpr, tpr, thresholds = metrics.roc_curve(ytest, y_pred, pos_label=2)\n",
    "    #AUC Score for test and train \n",
    "    auc_score_train.append(roc_auc_score(ytrain, y_pred_train))\n",
    "    auc_score_test.append(roc_auc_score(ytest, y_pred_test))\n",
    "    #Accuracy score \n",
    "    accuracy_score_train.append(accuracy_score(ytrain,y_pred_train))\n",
    "    accuracy_score_test.append(accuracy_score(ytest,y_pred_test))\n",
    "    #recall score \n",
    "    recall_score_train.append(recall_score(ytrain, y_pred_train, average=None))\n",
    "    recall_score_test.append(recall_score(ytest, y_pred_test, average=None))\n",
    "    #f1 score \n",
    "    f1_score_train.append(f1_score(ytrain,y_pred_train))\n",
    "    f1_score_test.append(f1_score(ytest,y_pred_test))\n",
    "    #Precision score \n",
    "    precision_score_train.append(precision_score(ytrain,y_pred_train))\n",
    "    precision_score_test.append(precision_score(ytest,y_pred_test))\n",
    "    "
   ]
  },
  {
   "cell_type": "markdown",
   "metadata": {},
   "source": [
    "# Precision score for train and test dataset "
   ]
  },
  {
   "cell_type": "code",
   "execution_count": 130,
   "metadata": {},
   "outputs": [
    {
     "name": "stdout",
     "output_type": "stream",
     "text": [
      "Precision score for train\n",
      "[0.87654320987654322, 0.88714733542319746, 0.87925696594427249, 0.88198757763975155, 0.89589905362776023, 0.88161993769470404, 0.87037037037037035, 0.88198757763975155, 0.87925696594427249, 0.87076923076923074, 0.87037037037037035, 0.89873417721518989, 0.89028213166144199, 0.88714733542319746, 0.88714733542319746, 0.89341692789968652, 0.89589905362776023, 0.88749999999999996, 0.88749999999999996, 0.88473520249221183, 0.88749999999999996, 0.87345679012345678, 0.88198757763975155, 0.88473520249221183, 0.89028213166144199, 0.88235294117647056, 0.87925696594427249, 0.8788819875776398, 0.87925696594427249, 0.89308176100628933]\n",
      "Precision score for test\n",
      "[0.86585365853658536, 0.87804878048780488, 0.89873417721518989, 0.88888888888888884, 0.84705882352941175, 0.88749999999999996, 0.91025641025641024, 0.88749999999999996, 0.86585365853658536, 0.97222222222222221, 0.91025641025641024, 0.84705882352941175, 0.84705882352941175, 0.89610389610389607, 0.88607594936708856, 0.8571428571428571, 0.8571428571428571, 0.8571428571428571, 0.83720930232558144, 0.88888888888888884, 0.86746987951807231, 0.97222222222222221, 0.88749999999999996, 0.88888888888888884, 0.83720930232558144, 0.8571428571428571, 0.86585365853658536, 0.88888888888888884, 0.89873417721518989, 0.85365853658536583]\n"
     ]
    }
   ],
   "source": [
    "print(\"Precision score for train\")\n",
    "print(precision_score_train)\n",
    "print(\"Precision score for test\")\n",
    "print(precision_score_test)"
   ]
  },
  {
   "cell_type": "code",
   "execution_count": 3,
   "metadata": {},
   "outputs": [
    {
     "name": "stdout",
     "output_type": "stream",
     "text": [
      "Average Precision score train : \n",
      "0.8839454360869572\n"
     ]
    }
   ],
   "source": [
    "print(\"Average Precision score train : \")\n",
    "print(sum(precision_score_train) / float(len(precision_score_train)))"
   ]
  },
  {
   "cell_type": "code",
   "execution_count": 5,
   "metadata": {},
   "outputs": [
    {
     "name": "stdout",
     "output_type": "stream",
     "text": [
      "Average Precision score test : \n",
      "0.880118856547534\n"
     ]
    }
   ],
   "source": [
    "print(\"Average Precision score test : \")\n",
    "print(sum(precision_score_test) / float(len(precision_score_test)))"
   ]
  },
  {
   "cell_type": "markdown",
   "metadata": {},
   "source": [
    "# F1 Score : "
   ]
  },
  {
   "cell_type": "code",
   "execution_count": 131,
   "metadata": {},
   "outputs": [
    {
     "name": "stdout",
     "output_type": "stream",
     "text": [
      "F1 score for train\n",
      "[0.93267651888341541, 0.9370860927152318, 0.93421052631578949, 0.93574958813838549, 0.94352159468438535, 0.93399339933993397, 0.92610837438423654, 0.93574958813838549, 0.93421052631578949, 0.9278688524590164, 0.92610837438423654, 0.94509151414309489, 0.9403973509933774, 0.9370860927152318, 0.9370860927152318, 0.94370860927152311, 0.94352159468438535, 0.93884297520661153, 0.93884297520661153, 0.9372937293729372, 0.93884297520661153, 0.92939244663382581, 0.93574958813838549, 0.9372937293729372, 0.9403973509933774, 0.9375, 0.93421052631578949, 0.93245469522240521, 0.93421052631578949, 0.94195688225538976]\n",
      "F1 score for test\n",
      "[0.92207792207792216, 0.93506493506493515, 0.94039735099337751, 0.94117647058823528, 0.91719745222929927, 0.93421052631578949, 0.94666666666666666, 0.93421052631578949, 0.92207792207792216, 0.97222222222222221, 0.94666666666666666, 0.91719745222929927, 0.91719745222929927, 0.92617449664429519, 0.92715231788079466, 0.92307692307692302, 0.92307692307692302, 0.92307692307692302, 0.91139240506329111, 0.94117647058823528, 0.92903225806451606, 0.97222222222222221, 0.93421052631578949, 0.94117647058823528, 0.91139240506329111, 0.92307692307692302, 0.92207792207792216, 0.94117647058823528, 0.94039735099337751, 0.90909090909090906]\n"
     ]
    }
   ],
   "source": [
    "print(\"F1 score for train\")\n",
    "print(f1_score_train)\n",
    "print(\"F1 score for test\")\n",
    "print(f1_score_test)"
   ]
  },
  {
   "cell_type": "code",
   "execution_count": 7,
   "metadata": {},
   "outputs": [
    {
     "name": "stdout",
     "output_type": "stream",
     "text": [
      "Average f1 score train : \n",
      "0.9363721030174107\n"
     ]
    }
   ],
   "source": [
    "print(\"Average f1 score train : \")\n",
    "print(sum(f1_score_train) / float(len(f1_score_train)))"
   ]
  },
  {
   "cell_type": "code",
   "execution_count": 9,
   "metadata": {},
   "outputs": [
    {
     "name": "stdout",
     "output_type": "stream",
     "text": [
      "Average f1 score train : \n",
      "0.9315114494388745\n"
     ]
    }
   ],
   "source": [
    "print(\"Average f1 score train : \")\n",
    "print(sum(f1_score_test) / float(len(f1_score_test)))"
   ]
  },
  {
   "cell_type": "markdown",
   "metadata": {},
   "source": [
    "# AUC Score : "
   ]
  },
  {
   "cell_type": "code",
   "execution_count": 132,
   "metadata": {},
   "outputs": [
    {
     "name": "stdout",
     "output_type": "stream",
     "text": [
      "AUC score for train\n",
      "[0.87990241876881548, 0.88998235233053047, 0.8828609986504723, 0.88581957853212911, 0.9006124779404131, 0.88406519256721683, 0.87047648707567737, 0.88581957853212911, 0.8828609986504723, 0.87223087304058966, 0.87047648707567737, 0.90357105782206992, 0.89469531817709957, 0.88998235233053047, 0.88998235233053047, 0.89940828402366857, 0.9006124779404131, 0.89173673829544275, 0.89173673829544275, 0.88877815841378593, 0.89173673829544275, 0.87518945292224637, 0.88581957853212911, 0.88877815841378593, 0.89469531817709957, 0.8875739644970414, 0.8828609986504723, 0.88110661268556001, 0.8828609986504723, 0.89765389805875639]\n",
      "AUC score for test\n",
      "[0.86514857881136953, 0.88372093023255816, 0.90003229974160215, 0.89534883720930225, 0.84883720930232553, 0.88840439276485794, 0.91166020671834613, 0.88840439276485794, 0.86514857881136953, 0.96285529715762275, 0.91166020671834613, 0.84883720930232553, 0.84883720930232553, 0.88614341085271331, 0.88145994832041341, 0.86046511627906974, 0.86046511627906974, 0.86046511627906974, 0.83720930232558133, 0.89534883720930225, 0.87209302325581395, 0.96285529715762275, 0.88840439276485794, 0.89534883720930225, 0.83720930232558133, 0.86046511627906974, 0.86514857881136953, 0.89534883720930225, 0.90003229974160215, 0.8465762273901809]\n"
     ]
    }
   ],
   "source": [
    "print(\"AUC score for train\")\n",
    "print(auc_score_train)\n",
    "print(\"AUC score for test\")\n",
    "print(auc_score_test)"
   ]
  },
  {
   "cell_type": "code",
   "execution_count": 11,
   "metadata": {},
   "outputs": [
    {
     "name": "stdout",
     "output_type": "stream",
     "text": [
      "Average auc score train : \n",
      "0.8874628879892036\n"
     ]
    }
   ],
   "source": [
    "print(\"Average auc score train : \")\n",
    "print(sum(auc_score_train) / float(len(auc_score_train)))"
   ]
  },
  {
   "cell_type": "code",
   "execution_count": 13,
   "metadata": {},
   "outputs": [
    {
     "name": "stdout",
     "output_type": "stream",
     "text": [
      "Average auc score test : \n",
      "0.8807978036175711\n"
     ]
    }
   ],
   "source": [
    "print(\"Average auc score test : \")\n",
    "print(sum(auc_score_test) / float(len(auc_score_test)))"
   ]
  },
  {
   "cell_type": "markdown",
   "metadata": {},
   "source": [
    "# Recall Score : "
   ]
  },
  {
   "cell_type": "code",
   "execution_count": 133,
   "metadata": {},
   "outputs": [
    {
     "name": "stdout",
     "output_type": "stream",
     "text": [
      "Recall score for train\n",
      "[array([ 0.76331361,  0.99649123]), array([ 0.78698225,  0.99298246]), array([ 0.76923077,  0.99649123]), array([ 0.77514793,  0.99649123]), array([ 0.80473373,  0.99649123]), array([ 0.77514793,  0.99298246]), array([ 0.75147929,  0.98947368]), array([ 0.77514793,  0.99649123]), array([ 0.76923077,  0.99649123]), array([ 0.75147929,  0.99298246]), array([ 0.75147929,  0.98947368]), array([ 0.81065089,  0.99649123]), array([ 0.79289941,  0.99649123]), array([ 0.78698225,  0.99298246]), array([ 0.78698225,  0.99298246]), array([ 0.79881657,  1.        ]), array([ 0.80473373,  0.99649123]), array([ 0.78698225,  0.99649123]), array([ 0.78698225,  0.99649123]), array([ 0.78106509,  0.99649123]), array([ 0.78698225,  0.99649123]), array([ 0.75739645,  0.99298246]), array([ 0.77514793,  0.99649123]), array([ 0.78106509,  0.99649123]), array([ 0.79289941,  0.99649123]), array([ 0.77514793,  1.        ]), array([ 0.76923077,  0.99649123]), array([ 0.76923077,  0.99298246]), array([ 0.76923077,  0.99649123]), array([ 0.79881657,  0.99649123])]\n",
      "Recall score for test\n",
      "[array([ 0.74418605,  0.98611111]), array([ 0.76744186,  1.        ]), array([ 0.81395349,  0.98611111]), array([ 0.79069767,  1.        ]), array([ 0.69767442,  1.        ]), array([ 0.79069767,  0.98611111]), array([ 0.8372093 ,  0.98611111]), array([ 0.79069767,  0.98611111]), array([ 0.74418605,  0.98611111]), array([ 0.95348837,  0.97222222]), array([ 0.8372093 ,  0.98611111]), array([ 0.69767442,  1.        ]), array([ 0.69767442,  1.        ]), array([ 0.81395349,  0.95833333]), array([ 0.79069767,  0.97222222]), array([ 0.72093023,  1.        ]), array([ 0.72093023,  1.        ]), array([ 0.72093023,  1.        ]), array([ 0.6744186,  1.       ]), array([ 0.79069767,  1.        ]), array([ 0.74418605,  1.        ]), array([ 0.95348837,  0.97222222]), array([ 0.79069767,  0.98611111]), array([ 0.79069767,  1.        ]), array([ 0.6744186,  1.       ]), array([ 0.72093023,  1.        ]), array([ 0.74418605,  0.98611111]), array([ 0.79069767,  1.        ]), array([ 0.81395349,  0.98611111]), array([ 0.72093023,  0.97222222])]\n"
     ]
    }
   ],
   "source": [
    "print(\"Recall score for train\")\n",
    "print(recall_score_train)\n",
    "print(\"Recall score for test\")\n",
    "print(recall_score_test)"
   ]
  },
  {
   "cell_type": "markdown",
   "metadata": {},
   "source": [
    "# Accuracy Score : "
   ]
  },
  {
   "cell_type": "code",
   "execution_count": 134,
   "metadata": {},
   "outputs": [
    {
     "name": "stdout",
     "output_type": "stream",
     "text": [
      "Accurcay score for train\n",
      "[0.9096916299559471, 0.91629955947136565, 0.91189427312775329, 0.91409691629955947, 0.92511013215859028, 0.91189427312775329, 0.90088105726872247, 0.91409691629955947, 0.91189427312775329, 0.90308370044052866, 0.90088105726872247, 0.92731277533039647, 0.92070484581497802, 0.91629955947136565, 0.91629955947136565, 0.92511013215859028, 0.92511013215859028, 0.91850220264317184, 0.91850220264317184, 0.91629955947136565, 0.91850220264317184, 0.90528634361233484, 0.91409691629955947, 0.91629955947136565, 0.92070484581497802, 0.91629955947136565, 0.91189427312775329, 0.9096916299559471, 0.91189427312775329, 0.9229074889867841]\n",
      "Accuracy score for test\n",
      "[0.89565217391304353, 0.91304347826086951, 0.92173913043478262, 0.92173913043478262, 0.88695652173913042, 0.91304347826086951, 0.93043478260869561, 0.91304347826086951, 0.89565217391304353, 0.9652173913043478, 0.93043478260869561, 0.88695652173913042, 0.88695652173913042, 0.90434782608695652, 0.90434782608695652, 0.89565217391304353, 0.89565217391304353, 0.89565217391304353, 0.87826086956521743, 0.92173913043478262, 0.90434782608695652, 0.9652173913043478, 0.91304347826086951, 0.92173913043478262, 0.87826086956521743, 0.89565217391304353, 0.89565217391304353, 0.92173913043478262, 0.92173913043478262, 0.87826086956521743]\n"
     ]
    }
   ],
   "source": [
    "print(\"Accurcay score for train\")\n",
    "print(accuracy_score_train)\n",
    "print(\"Accuracy score for test\")\n",
    "print(accuracy_score_test)"
   ]
  },
  {
   "cell_type": "code",
   "execution_count": 16,
   "metadata": {},
   "outputs": [
    {
     "name": "stdout",
     "output_type": "stream",
     "text": [
      "Average accuracy score train : \n",
      "0.9150513950073422\n"
     ]
    }
   ],
   "source": [
    "print(\"Average accuracy score train : \")\n",
    "print(sum(accuracy_score_train) / float(len(accuracy_score_train))"
   ]
  },
  {
   "cell_type": "code",
   "execution_count": 18,
   "metadata": {},
   "outputs": [
    {
     "name": "stdout",
     "output_type": "stream",
     "text": [
      "Average accuracy score test : \n",
      "0.9084057971014493\n"
     ]
    }
   ],
   "source": [
    "print(\"Average accuracy score test : \")\n",
    "print(sum(accuracy_score_test) / float(len(accuracy_score_test)))"
   ]
  },
  {
   "cell_type": "code",
   "execution_count": 135,
   "metadata": {},
   "outputs": [
    {
     "data": {
      "text/plain": [
       "array([[31, 12],\n",
       "       [ 2, 70]])"
      ]
     },
     "execution_count": 135,
     "metadata": {},
     "output_type": "execute_result"
    }
   ],
   "source": [
    "from sklearn.metrics import confusion_matrix\n",
    "confusion_matrix(ytest, y_pred_test)"
   ]
  },
  {
   "cell_type": "code",
   "execution_count": 140,
   "metadata": {},
   "outputs": [
    {
     "data": {
      "image/png": "[encoded data removed]",
      "text/plain": [
       "<Figure size 432x288 with 1 Axes>"
      ]
     },
     "metadata": {},
     "output_type": "display_data"
    }
   ],
   "source": [
    "import matplotlib.pyplot as plt \n",
    "from sklearn.metrics import roc_curve, auc\n",
    "false_positive_rate, true_positive_rate, thresholds = roc_curve(ytest, y_pred_test)\n",
    "roc_auc = auc(false_positive_rate, true_positive_rate)\n",
    "plt.title('Receiver Operating Characteristic')\n",
    "plt.plot(false_positive_rate, true_positive_rate, 'b',\n",
    "label='AUC = %0.2f'% roc_auc)\n",
    "plt.legend(loc='lower right')\n",
    "plt.plot([0, 1], [0, 1],'r--')\n",
    "plt.xlim([0.0, 1.0])\n",
    "plt.ylim([0.0, 1.05])\n",
    "plt.xlabel('False Positive Rate')\n",
    "plt.ylabel('True Positive Rate')\n",
    "plt.title('Receiver operating characteristic')\n",
    "plt.legend(loc=\"lower right\")\n",
    "plt.savefig('Log_ROC')\n",
    "plt.show()"
   ]
  },
  {
   "cell_type": "markdown",
   "metadata": {},
   "source": [
    "# b(ii.) Semi-supervised / Self training "
   ]
  },
  {
   "cell_type": "code",
   "execution_count": 142,
   "metadata": {},
   "outputs": [],
   "source": [
    "#select 50% of the positive class along with 50% of the negative class in the training set as labeled data and the rest as unlabelled data."
   ]
  },
  {
   "cell_type": "code",
   "execution_count": 279,
   "metadata": {},
   "outputs": [],
   "source": [
    "train_malign, test_malign = train_test_split(malign_dataset, test_size=0.2,random_state=random_val)\n",
    "train_benign, test_benign = train_test_split(benign_dataset, test_size=0.2,random_state=random_val)\n",
    "train_dataset = train_malign.append(train_benign)\n",
    "test_dataset = test_malign.append(test_benign)\n"
   ]
  },
  {
   "cell_type": "code",
   "execution_count": 280,
   "metadata": {},
   "outputs": [
    {
     "data": {
      "text/plain": [
       "(454, 32)"
      ]
     },
     "execution_count": 280,
     "metadata": {},
     "output_type": "execute_result"
    }
   ],
   "source": [
    "train_dataset.shape"
   ]
  },
  {
   "cell_type": "code",
   "execution_count": 281,
   "metadata": {},
   "outputs": [],
   "source": [
    "#Split train dataset into labelled and unlabelled. \n",
    "train_dataset_label = train_dataset[:227]"
   ]
  },
  {
   "cell_type": "code",
   "execution_count": 282,
   "metadata": {},
   "outputs": [],
   "source": [
    "train_dataset_unlabel = train_dataset[227:]"
   ]
  },
  {
   "cell_type": "code",
   "execution_count": 283,
   "metadata": {},
   "outputs": [],
   "source": [
    "train_dataset_unlabel['Diag'] = ' ' #unlabelled dataset "
   ]
  },
  {
   "cell_type": "code",
   "execution_count": 318,
   "metadata": {},
   "outputs": [],
   "source": [
    "accuracy_score_test = []\n",
    "f1_score_test = []\n",
    "recall_score_test = []\n",
    "precision_score_test = []\n",
    "auc_score_test = []\n",
    "accuracy_score_train = []\n",
    "f1_score_train = []\n",
    "recall_score_train = []\n",
    "precision_score_train = []\n",
    "auc_score_train = []\n",
    "for i in range(1,31,1):\n",
    "    random_val = randint(0, 42)\n",
    "    train_malign, test_malign = train_test_split(malign_dataset, test_size=0.2,random_state=random_val)\n",
    "    train_benign, test_benign = train_test_split(benign_dataset, test_size=0.2,random_state=random_val)\n",
    "    train_dataset = train_malign.append(train_benign)\n",
    "    test_dataset = test_malign.append(test_benign)\n",
    "    #split train dataset into label and unlabelled :\n",
    "    #select 50% of 1 and 0 both in labelled dataset M = 0 ; B = 1\n",
    "    malign_dataset_label = train_dataset.loc[train_dataset['Diag'] == 'M']\n",
    "    benign_dataset_label = train_dataset.loc[train_dataset['Diag'] == 'B']\n",
    "    #split randomly \n",
    "    train_malign_label,train_malign_unlabel = train_test_split(malign_dataset_label, test_size=0.5,random_state=random_val)\n",
    "    train_benign_label,train_benign_unlabel = train_test_split(benign_dataset_label, test_size=0.5,random_state=random_val)\n",
    "    #concat\n",
    "    train_dataset_label = train_malign_label.append(train_benign_label)\n",
    "    train_dataset_unlabel = train_malign_unlabel.append(train_benign_unlabel)\n",
    "    #unlabel the column \n",
    "    train_dataset_unlabel['Diag'] = ' '\n",
    "    #prepare dataset for model\n",
    "    train_dataset_label_X = train_dataset_label.drop(columns=['Diag'])\n",
    "    train_dataset_label_Y = train_dataset_label[['Diag']]\n",
    "    train_dataset_label_Y['Diag'][train_dataset_label_Y.Diag == 'M'] = 0 \n",
    "    train_dataset_label_Y['Diag'][train_dataset_label_Y.Diag == 'B'] = 1 \n",
    "    #preprocdessing unlabel dataset\n",
    "    normalized_X_train_unlabel = preprocessing.normalize(train_dataset_unlabel.drop(columns=['Diag']))\n",
    "    #prepare test dataset\n",
    "    X_test = test_dataset.drop(columns=['Diag'])\n",
    "    normalized_X_test = preprocessing.normalize(X_test)\n",
    "    Y_test = test_dataset[['Diag']]\n",
    "    Y_test['Diag'][Y_test.Diag == 'M'] = 0 \n",
    "    Y_test['Diag'][Y_test.Diag == 'B'] = 1 \n",
    "    #this loop goes on till all the unlabeled training daatset has been labelled. \n",
    "    #Normlaise the data \n",
    "    while(len(normalized_X_train_unlabel)>1):\n",
    "        normalized_X_train_label = preprocessing.normalize(train_dataset_label_X)\n",
    "        ytrain_label = train_dataset_label_Y.astype('int')\n",
    "        linearSVC.fit(normalized_X_train_label,ytrain_label)\n",
    "\n",
    "        #COMPUTE THE DECISION BOUNDARY AND MAX DISTANCE \n",
    "        y = linearSVC.decision_function(normalized_X_train_unlabel)\n",
    "        bestlinearSVC = linearSVC.best_estimator_\n",
    "        bestlinearSVC.coef_ = bestlinearSVC.named_steps['SVC'].coef_\n",
    "        w_norm = np.linalg.norm(bestlinearSVC.coef_)\n",
    "        dist = y / w_norm\n",
    "        index = np.argmax(dist)\n",
    "        #farthest point \n",
    "        array_dist_max = normalized_X_train_unlabel[index] \n",
    "        new_unlabel_data = normalized_X_train_unlabel.tolist()\n",
    "        del new_unlabel_data[index]\n",
    "        normalized_X_train_unlabel = preprocessing.normalize(new_unlabel_data)\n",
    "        #label the data \n",
    "        iter_data = array_dist_max.reshape(1, -1)\n",
    "        res = linearSVC.predict(iter_data)\n",
    "        #add it back to training dataset \n",
    "        #add back to training data : \n",
    "        train_data_new = normalized_X_train_label.tolist()\n",
    "        train_data_new.append(array_dist_max)\n",
    "        rownum = ytrain_label.shape[0]\n",
    "        #ytrain_label.loc[rownum] = res[0]\n",
    "        train_data_new=train_dataset_label_X\n",
    "    #test the model fit data onto test dataset:\n",
    "    y_pred_test = linearSVC.predict(normalized_X_test)\n",
    "    y_pred_train = linearSVC.predict(normalized_X_train_label)\n",
    "    ytest = Y_test.astype('int')\n",
    "    fpr, tpr, thresholds = metrics.roc_curve(ytest, y_pred, pos_label=2)\n",
    "    #AUC Score for test and train \n",
    "    auc_score_train.append(roc_auc_score(ytrain_label, y_pred_train))\n",
    "    auc_score_test.append(roc_auc_score(ytest, y_pred_test))\n",
    "    #Accuracy score \n",
    "    accuracy_score_train.append(accuracy_score(ytrain_label,y_pred_train))\n",
    "    accuracy_score_test.append(accuracy_score(ytest,y_pred_test))\n",
    "    #recall score \n",
    "    recall_score_train.append(recall_score(ytrain_label, y_pred_train, average=None))\n",
    "    recall_score_test.append(recall_score(ytest, y_pred_test, average=None))\n",
    "    #f1 score \n",
    "    f1_score_train.append(f1_score(ytrain_label,y_pred_train))\n",
    "    f1_score_test.append(f1_score(ytest,y_pred_test))\n",
    "    #Precision score \n",
    "    precision_score_train.append(precision_score(ytrain_label,y_pred_train))\n",
    "    precision_score_test.append(precision_score(ytest,y_pred_test))\n",
    "    ytrain_label.loc[rownum] = res[0]\n",
    "    \n",
    "    \n",
    "    "
   ]
  },
  {
   "cell_type": "markdown",
   "metadata": {},
   "source": [
    "# Accuracy score for train and test dataset "
   ]
  },
  {
   "cell_type": "code",
   "execution_count": 321,
   "metadata": {},
   "outputs": [
    {
     "name": "stdout",
     "output_type": "stream",
     "text": [
      "Accuracy score train : \n",
      "[0.92035398230088494, 0.92920353982300885, 0.94690265486725667, 0.93805309734513276, 0.92920353982300885, 0.92920353982300885, 0.91592920353982299, 0.9247787610619469, 0.9336283185840708, 0.93805309734513276, 0.88495575221238942, 0.92920353982300885, 0.94690265486725667, 0.92920353982300885, 0.93805309734513276, 0.92035398230088494, 0.9247787610619469, 0.9336283185840708, 0.91592920353982299, 0.9247787610619469, 0.88938053097345138, 0.9336283185840708, 0.92920353982300885, 0.92920353982300885, 0.9336283185840708, 0.92035398230088494, 0.92920353982300885, 0.91150442477876104, 0.91150442477876104, 0.92035398230088494]\n",
      "Accuracy score test : \n",
      "[0.86956521739130432, 0.94782608695652171, 0.89565217391304353, 0.90434782608695652, 0.88695652173913042, 0.89565217391304353, 0.89565217391304353, 0.86086956521739133, 0.90434782608695652, 0.95652173913043481, 0.91304347826086951, 0.88695652173913042, 0.91304347826086951, 0.88695652173913042, 0.82608695652173914, 0.86956521739130432, 0.90434782608695652, 0.95652173913043481, 0.88695652173913042, 0.91304347826086951, 0.89565217391304353, 0.92173913043478262, 0.87826086956521743, 0.94782608695652171, 0.95652173913043481, 0.88695652173913042, 0.88695652173913042, 0.86956521739130432, 0.91304347826086951, 0.88695652173913042]\n"
     ]
    }
   ],
   "source": [
    "print(\"Accuracy score train : \")\n",
    "print( accuracy_score_train)\n",
    "print(\"Accuracy score test : \")\n",
    "print( accuracy_score_test)"
   ]
  },
  {
   "cell_type": "code",
   "execution_count": 21,
   "metadata": {},
   "outputs": [
    {
     "name": "stdout",
     "output_type": "stream",
     "text": [
      "Average accuracy score train : \n",
      "0.925368731563422\n"
     ]
    }
   ],
   "source": [
    "print(\"Average accuracy score train : \")\n",
    "print(sum(x) / float(len(x)))"
   ]
  },
  {
   "cell_type": "code",
   "execution_count": 23,
   "metadata": {},
   "outputs": [
    {
     "name": "stdout",
     "output_type": "stream",
     "text": [
      "Average accuracy score test : \n",
      "0.9005797101449274\n"
     ]
    }
   ],
   "source": [
    "print(\"Average accuracy score test : \")\n",
    "print(sum(x) / float(len(x)))"
   ]
  },
  {
   "cell_type": "markdown",
   "metadata": {},
   "source": [
    "# Precision Score : "
   ]
  },
  {
   "cell_type": "code",
   "execution_count": 322,
   "metadata": {},
   "outputs": [
    {
     "name": "stdout",
     "output_type": "stream",
     "text": [
      "Precision score  train : \n",
      "[0.89240506329113922, 0.90384615384615385, 0.92207792207792205, 0.91025641025641024, 0.89873417721518989, 0.89873417721518989, 0.88198757763975155, 0.90322580645161288, 0.90445859872611467, 0.91025641025641024, 0.8493975903614458, 0.89873417721518989, 0.92763157894736847, 0.89873417721518989, 0.91025641025641024, 0.89240506329113922, 0.89308176100628933, 0.90445859872611467, 0.88198757763975155, 0.89308176100628933, 0.85889570552147243, 0.9096774193548387, 0.90909090909090906, 0.90384615384615385, 0.90445859872611467, 0.88749999999999996, 0.89873417721518989, 0.87654320987654322, 0.87654320987654322, 0.88749999999999996]\n",
      "Accuracy score test : \n",
      "[0.84337349397590367, 0.92307692307692313, 0.89473684210526316, 0.88607594936708856, 0.85542168674698793, 0.8571428571428571, 0.86585365853658536, 0.83333333333333337, 0.87654320987654322, 0.971830985915493, 0.88749999999999996, 0.86419753086419748, 0.88749999999999996, 0.87341772151898733, 0.83333333333333337, 0.84337349397590367, 0.90666666666666662, 0.93506493506493504, 0.86419753086419748, 0.91891891891891897, 0.875, 0.88888888888888884, 0.84523809523809523, 0.92307692307692313, 0.93506493506493504, 0.85542168674698793, 0.88311688311688308, 0.84337349397590367, 0.87804878048780488, 0.85542168674698793]\n"
     ]
    }
   ],
   "source": [
    "print(\"Precision score  train : \")\n",
    "print( precision_score_train)\n",
    "print(\"Accuracy score test : \")\n",
    "print( precision_score_test)"
   ]
  },
  {
   "cell_type": "code",
   "execution_count": 26,
   "metadata": {},
   "outputs": [],
   "source": [
    "x = [0.84337349397590367, 0.92307692307692313, 0.89473684210526316, 0.88607594936708856, 0.85542168674698793, 0.8571428571428571, 0.86585365853658536, 0.83333333333333337, 0.87654320987654322, 0.971830985915493, 0.88749999999999996, 0.86419753086419748, 0.88749999999999996, 0.87341772151898733, 0.83333333333333337, 0.84337349397590367, 0.90666666666666662, 0.93506493506493504, 0.86419753086419748, 0.91891891891891897, 0.875, 0.88888888888888884, 0.84523809523809523, 0.92307692307692313, 0.93506493506493504, 0.85542168674698793, 0.88311688311688308, 0.84337349397590367, 0.87804878048780488, 0.85542168674698793]"
   ]
  },
  {
   "cell_type": "code",
   "execution_count": 25,
   "metadata": {},
   "outputs": [
    {
     "name": "stdout",
     "output_type": "stream",
     "text": [
      "Average accuracy score test : \n",
      "0.8962846792049618\n"
     ]
    }
   ],
   "source": [
    "print(\"Average accuracy score train : \")\n",
    "print(sum(accuracy_score_train) / float(len(accuracy_score_train)))"
   ]
  },
  {
   "cell_type": "code",
   "execution_count": 27,
   "metadata": {},
   "outputs": [
    {
     "name": "stdout",
     "output_type": "stream",
     "text": [
      "Average accuracy score test : \n",
      "0.880140348154251\n"
     ]
    }
   ],
   "source": [
    "print(\"Average accuracy score test : \")\n",
    "print(sum(accuracy_score_test) / float(len(accuracy_score_test)))"
   ]
  },
  {
   "cell_type": "markdown",
   "metadata": {},
   "source": [
    "# Recall Score : "
   ]
  },
  {
   "cell_type": "code",
   "execution_count": 323,
   "metadata": {},
   "outputs": [
    {
     "name": "stdout",
     "output_type": "stream",
     "text": [
      "Recalls score train : \n",
      "[array([ 0.79761905,  0.99295775]), array([ 0.82142857,  0.99295775]), array([ 0.85714286,  1.        ]), array([ 0.83333333,  1.        ]), array([ 0.80952381,  1.        ]), array([ 0.80952381,  1.        ]), array([ 0.77380952,  1.        ]), array([ 0.82142857,  0.98591549]), array([ 0.82142857,  1.        ]), array([ 0.83333333,  1.        ]), array([ 0.70238095,  0.99295775]), array([ 0.80952381,  1.        ]), array([ 0.86904762,  0.99295775]), array([ 0.80952381,  1.        ]), array([ 0.83333333,  1.        ]), array([ 0.79761905,  0.99295775]), array([ 0.79761905,  1.        ]), array([ 0.82142857,  1.        ]), array([ 0.77380952,  1.        ]), array([ 0.79761905,  1.        ]), array([ 0.72619048,  0.98591549]), array([ 0.83333333,  0.99295775]), array([ 0.83333333,  0.98591549]), array([ 0.82142857,  0.99295775]), array([ 0.82142857,  1.        ]), array([ 0.78571429,  1.        ]), array([ 0.80952381,  1.        ]), array([ 0.76190476,  1.        ]), array([ 0.76190476,  1.        ]), array([ 0.78571429,  1.        ])]\n",
      "Recall score test : \n",
      "[array([ 0.69767442,  0.97222222]), array([ 0.86046512,  1.        ]), array([ 0.81395349,  0.94444444]), array([ 0.79069767,  0.97222222]), array([ 0.72093023,  0.98611111]), array([ 0.72093023,  1.        ]), array([ 0.74418605,  0.98611111]), array([ 0.6744186 ,  0.97222222]), array([ 0.76744186,  0.98611111]), array([ 0.95348837,  0.95833333]), array([ 0.79069767,  0.98611111]), array([ 0.74418605,  0.97222222]), array([ 0.79069767,  0.98611111]), array([ 0.76744186,  0.95833333]), array([ 0.69767442,  0.90277778]), array([ 0.69767442,  0.97222222]), array([ 0.8372093 ,  0.94444444]), array([ 0.88372093,  1.        ]), array([ 0.74418605,  0.97222222]), array([ 0.86046512,  0.94444444]), array([ 0.76744186,  0.97222222]), array([ 0.79069767,  1.        ]), array([ 0.69767442,  0.98611111]), array([ 0.86046512,  1.        ]), array([ 0.88372093,  1.        ]), array([ 0.72093023,  0.98611111]), array([ 0.79069767,  0.94444444]), array([ 0.69767442,  0.97222222]), array([ 0.76744186,  1.        ]), array([ 0.72093023,  0.98611111])]\n"
     ]
    }
   ],
   "source": [
    "print(\"Recalls score train : \")\n",
    "print( recall_score_train)\n",
    "print(\"Recall score test : \")\n",
    "print( recall_score_test)"
   ]
  },
  {
   "cell_type": "markdown",
   "metadata": {},
   "source": [
    "# AUC score : "
   ]
  },
  {
   "cell_type": "code",
   "execution_count": 324,
   "metadata": {},
   "outputs": [
    {
     "name": "stdout",
     "output_type": "stream",
     "text": [
      "auc score train : \n",
      "[0.89528839704896046, 0.90719315895372232, 0.9285714285714286, 0.91666666666666674, 0.90476190476190477, 0.90476190476190477, 0.88690476190476197, 0.90367203219315895, 0.9107142857142857, 0.91666666666666674, 0.84766934942991279, 0.90476190476190477, 0.93100268276324616, 0.90476190476190477, 0.91666666666666674, 0.89528839704896046, 0.89880952380952384, 0.9107142857142857, 0.88690476190476197, 0.89880952380952384, 0.85605298457411128, 0.91314553990610325, 0.90962441314553988, 0.90719315895372232, 0.9107142857142857, 0.89285714285714279, 0.90476190476190477, 0.88095238095238093, 0.88095238095238093, 0.89285714285714279]\n",
      "auc score test : \n",
      "[0.8349483204134367, 0.93023255813953487, 0.87919896640826878, 0.88145994832041341, 0.85352067183462532, 0.86046511627906974, 0.86514857881136953, 0.82332041343669249, 0.87677648578811374, 0.95591085271317844, 0.88840439276485794, 0.85820413436692511, 0.88840439276485794, 0.8628875968992249, 0.80022609819121437, 0.8349483204134367, 0.89082687338501287, 0.94186046511627908, 0.85820413436692511, 0.90245478036175708, 0.86983204134366932, 0.89534883720930225, 0.84189276485788112, 0.93023255813953487, 0.94186046511627908, 0.85352067183462532, 0.86757105943152446, 0.8349483204134367, 0.88372093023255816, 0.85352067183462532]\n"
     ]
    }
   ],
   "source": [
    "print(\"auc score train : \")\n",
    "print( auc_score_train)\n",
    "print(\"auc score test : \")\n",
    "print( auc_score_test)"
   ]
  },
  {
   "cell_type": "code",
   "execution_count": 30,
   "metadata": {},
   "outputs": [],
   "source": [
    "x = [0.8349483204134367, 0.93023255813953487, 0.87919896640826878, 0.88145994832041341, 0.85352067183462532, 0.86046511627906974, 0.86514857881136953, 0.82332041343669249, 0.87677648578811374, 0.95591085271317844, 0.88840439276485794, 0.85820413436692511, 0.88840439276485794, 0.8628875968992249, 0.80022609819121437, 0.8349483204134367, 0.89082687338501287, 0.94186046511627908, 0.85820413436692511, 0.90245478036175708, 0.86983204134366932, 0.89534883720930225, 0.84189276485788112, 0.93023255813953487, 0.94186046511627908, 0.85352067183462532, 0.86757105943152446, 0.8349483204134367, 0.88372093023255816, 0.85352067183462532]"
   ]
  },
  {
   "cell_type": "code",
   "execution_count": 29,
   "metadata": {},
   "outputs": [
    {
     "name": "stdout",
     "output_type": "stream",
     "text": [
      "Average auc score train : \n",
      "0.9006567180862955\n"
     ]
    }
   ],
   "source": [
    "print(\"Average auc score train : \")\n",
    "print(sum(auc_score_train) / float(len(auc_score_train)))"
   ]
  },
  {
   "cell_type": "code",
   "execution_count": 31,
   "metadata": {},
   "outputs": [
    {
     "name": "stdout",
     "output_type": "stream",
     "text": [
      "Average auc score test : \n",
      "0.8753283807062879\n"
     ]
    }
   ],
   "source": [
    "print(\"Average auc score test : \")\n",
    "print(sum(auc_score_test) / float(len(auc_score_test)))"
   ]
  },
  {
   "cell_type": "markdown",
   "metadata": {},
   "source": [
    "# F1 Score : "
   ]
  },
  {
   "cell_type": "code",
   "execution_count": 325,
   "metadata": {},
   "outputs": [
    {
     "name": "stdout",
     "output_type": "stream",
     "text": [
      "f1 score train : \n",
      "[0.93999999999999995, 0.94630872483221473, 0.95945945945945943, 0.95302013422818799, 0.94666666666666677, 0.94666666666666677, 0.9372937293729372, 0.94276094276094269, 0.94983277591973247, 0.95302013422818799, 0.9155844155844155, 0.94666666666666677, 0.95918367346938793, 0.94666666666666677, 0.95302013422818799, 0.93999999999999995, 0.94352159468438535, 0.94983277591973247, 0.9372937293729372, 0.94352159468438535, 0.91803278688524603, 0.9494949494949495, 0.94594594594594594, 0.94630872483221473, 0.94983277591973247, 0.94039735099337751, 0.94666666666666677, 0.93421052631578949, 0.93421052631578949, 0.94039735099337751]\n",
      "f1 score test : \n",
      "[0.90322580645161299, 0.96000000000000008, 0.91891891891891897, 0.92715231788079466, 0.91612903225806452, 0.92307692307692302, 0.92207792207792216, 0.89743589743589747, 0.92810457516339873, 0.965034965034965, 0.93421052631578949, 0.91503267973856206, 0.93421052631578949, 0.91390728476821204, 0.8666666666666667, 0.90322580645161299, 0.92517006802721091, 0.96644295302013428, 0.91503267973856206, 0.93150684931506844, 0.92105263157894735, 0.94117647058823528, 0.91025641025641024, 0.96000000000000008, 0.96644295302013428, 0.91612903225806452, 0.91275167785234901, 0.90322580645161299, 0.93506493506493515, 0.91612903225806452]\n"
     ]
    }
   ],
   "source": [
    "print(\"f1 score train : \")\n",
    "print( f1_score_train)\n",
    "print(\"f1 score test : \")\n",
    "print( f1_score_test)"
   ]
  },
  {
   "cell_type": "code",
   "execution_count": 40,
   "metadata": {},
   "outputs": [
    {
     "name": "stdout",
     "output_type": "stream",
     "text": [
      "Average f1 score train : \n",
      "0.9438606029924951\n"
     ]
    }
   ],
   "source": [
    "print(\"Average f1 score train : \")\n",
    "print(sum(x) / float(len(x)))"
   ]
  },
  {
   "cell_type": "code",
   "execution_count": 38,
   "metadata": {},
   "outputs": [
    {
     "name": "stdout",
     "output_type": "stream",
     "text": [
      "Average f1 score test : \n",
      "0.9249597115994954\n"
     ]
    }
   ],
   "source": [
    "print(\"Average f1 score test : \")\n",
    "print(sum(x) / float(len(x)))"
   ]
  },
  {
   "cell_type": "code",
   "execution_count": 326,
   "metadata": {},
   "outputs": [
    {
     "data": {
      "text/plain": [
       "array([[31, 12],\n",
       "       [ 1, 71]])"
      ]
     },
     "execution_count": 326,
     "metadata": {},
     "output_type": "execute_result"
    }
   ],
   "source": [
    "from sklearn.metrics import confusion_matrix\n",
    "confusion_matrix(ytest, y_pred_test)"
   ]
  },
  {
   "cell_type": "code",
   "execution_count": 327,
   "metadata": {},
   "outputs": [
    {
     "data": {
      "image/png": "[encoded data removed]",
      "text/plain": [
       "<Figure size 432x288 with 1 Axes>"
      ]
     },
     "metadata": {},
     "output_type": "display_data"
    }
   ],
   "source": [
    "import matplotlib.pyplot as plt \n",
    "from sklearn.metrics import roc_curve, auc\n",
    "false_positive_rate, true_positive_rate, thresholds = roc_curve(ytest, y_pred_test)\n",
    "roc_auc = auc(false_positive_rate, true_positive_rate)\n",
    "plt.title('Receiver Operating Characteristic')\n",
    "plt.plot(false_positive_rate, true_positive_rate, 'b',\n",
    "label='AUC = %0.2f'% roc_auc)\n",
    "plt.legend(loc='lower right')\n",
    "plt.plot([0, 1], [0, 1],'r--')\n",
    "plt.xlim([0.0, 1.0])\n",
    "plt.ylim([0.0, 1.05])\n",
    "plt.xlabel('False Positive Rate')\n",
    "plt.ylabel('True Positive Rate')\n",
    "plt.title('Receiver operating characteristic')\n",
    "plt.legend(loc=\"lower right\")\n",
    "plt.savefig('Log_ROC')\n",
    "plt.show()"
   ]
  },
  {
   "cell_type": "code",
   "execution_count": null,
   "metadata": {},
   "outputs": [],
   "source": []
  }
 ],
 "metadata": {
  "kernelspec": {
   "display_name": "Python 3",
   "language": "python",
   "name": "python3"
  },
  "language_info": {
   "codemirror_mode": {
    "name": "ipython",
    "version": 3
   },
   "file_extension": ".py",
   "mimetype": "text/x-python",
   "name": "python",
   "nbconvert_exporter": "python",
   "pygments_lexer": "ipython3",
   "version": "3.6.5"
  }
 },
 "nbformat": 4,
 "nbformat_minor": 2
}
